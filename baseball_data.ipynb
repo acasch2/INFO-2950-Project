{
 "cells": [
  {
   "cell_type": "markdown",
   "metadata": {},
   "source": [
    "# Project Phase II: Anna Asch and Anna Clemson"
   ]
  },
  {
   "cell_type": "markdown",
   "metadata": {},
   "source": [
    "### Research Question(s)\n",
    "1. In the post-steroid era, were the most successful teams built with elite hitting, pitching, or fielding? Basically based on data that represents quality, is it more valuable to score runs or prevent runs? Is a run scored really the same as a run prevented?\n",
    "2. Although all of this data is from the same \"era,\" there is no doubt that the game has changed within this era, does data support the idea that the make-up of the most successful teams has changed in the last 15 years or so? (By make-up we mean, for example, has hitting become more important?)\n",
    "\n",
    "Although there is some research on these topics most of the it is outdated or purely looking at the run totals or basic stats that are widely regarded as not being great measures of actual quality of a player (i.e., batting average). We want to look and see if beyond just runs, quality offense, quality pitching, or quality fielding is more valuable for a team's success (i.e., OPS for hitting or FIP for pitching)."
   ]
  },
  {
   "cell_type": "markdown",
   "metadata": {},
   "source": [
    "### Data Cleaning"
   ]
  },
  {
   "cell_type": "markdown",
   "metadata": {},
   "source": [
    "To begin we needed to import the pandas and numpy packages to allow us to perform all of the changes we needed on our data."
   ]
  },
  {
   "cell_type": "code",
   "execution_count": 2,
   "metadata": {},
   "outputs": [],
   "source": [
    "import pandas as pd\n",
    "import numpy as np"
   ]
  },
  {
   "cell_type": "markdown",
   "metadata": {},
   "source": [
    "Our first step in cleaning the data was to import 8 `.csv` files that we downloaded from [fangraphs.com](fangraphs.com). Using FanGraphs, we specified that we wanted team data for the years 2006-2019 and then downloaded `.csv` files of their compilations of various hitting, pitching, and fielding data using their dashboard, standard, and advanced categories. We created dataframes for each of these so that we could clean the data in Python."
   ]
  },
  {
   "cell_type": "code",
   "execution_count": 3,
   "metadata": {},
   "outputs": [],
   "source": [
    "hitting_dashboard = pd.read_csv('hitting_dashboard.csv')\n",
    "hitting_standard = pd.read_csv('hitting_standard.csv')\n",
    "hitting_advanced = pd.read_csv('hitting_advanced.csv')\n",
    "pitching_dashboard = pd.read_csv('pitching_dashboard.csv')\n",
    "pitching_standard = pd.read_csv('pitching_standard.csv')\n",
    "pitching_advanced = pd.read_csv('pitching_advanced.csv')\n",
    "fielding_dashboard = pd.read_csv('fielding_dashboard.csv')\n",
    "fielding_advanced = pd.read_csv('fielding_advanced.csv')"
   ]
  },
  {
   "cell_type": "markdown",
   "metadata": {},
   "source": [
    "Then we selected which columns we wanted to include from the three hitting dataframes we created from the FanGraphs data. They include a lot of statistics in their datasheets, but we are only going to look at some of this data in our analysis. Additionally, there are some redundancies across these dataframes (like `PA`), so we also want to ensure that we eliminate those. All of the dataframes still include the 'Season' and 'Team' column so that we can combine them later."
   ]
  },
  {
   "cell_type": "code",
   "execution_count": 4,
   "metadata": {},
   "outputs": [],
   "source": [
    "hitting_dashboard = hitting_dashboard.drop(columns=['G', 'SB', 'BABIP', 'EV', 'BsR', 'Off', 'Def'])\n",
    "hitting_standard = hitting_standard[['Season', 'Team', 'H']]\n",
    "hitting_advanced = hitting_advanced[['Season', 'Team', 'OPS']]"
   ]
  },
  {
   "cell_type": "markdown",
   "metadata": {},
   "source": [
    "We selected which columns we wanted to include from the three pitching dataframes we created from the FanGraphs data. They include a lot of statistics in their datasheets, but we are only going to look at some of this data in our analysis. Additionally, there are some redundancies across these dataframes (like `ERA`), so we also wanted to ensure that we eliminated those. All of the dataframes still included the 'Season' and 'Team' columns so that we could combine them later."
   ]
  },
  {
   "cell_type": "code",
   "execution_count": 5,
   "metadata": {},
   "outputs": [],
   "source": [
    "pitching_dashboard = pitching_dashboard.drop(columns=['G', 'K/9', 'BB/9', 'HR/9', 'BABIP', 'LOB%', 'GB%', 'HR/FB', 'EV','xFIP'])\n",
    "pitching_standard = pitching_standard[['Season', 'Team', 'SV', 'IP', 'H', 'R', 'ER', 'HR', 'BB', 'SO']]\n",
    "pitching_advanced = pitching_advanced[['Season', 'Team', 'K%', 'BB%', 'WHIP']]"
   ]
  },
  {
   "cell_type": "markdown",
   "metadata": {},
   "source": [
    "We selected which columns we wanted to include from the two fielding dataframes we created from the FanGraphs data. They include a lot of statistics in their datasheets, but we are only going to look at some of this data in our analysis. This was especially true for fielding since a lot of fielding statistics are closely related and some reflect overall team defense better than others. Additionally, there are some redundancies across these dataframes, although none of the data we wanted was repeated in this case. Both of the dataframes still include the 'Season' and 'Team' column so that we can combine them later."
   ]
  },
  {
   "cell_type": "code",
   "execution_count": 6,
   "metadata": {},
   "outputs": [],
   "source": [
    "fielding_dashboard = fielding_dashboard[['Season', 'Team', 'FP']]\n",
    "fielding_advanced = fielding_advanced[['Season', 'Team', 'DRS', 'UZR']]"
   ]
  },
  {
   "cell_type": "markdown",
   "metadata": {},
   "source": [
    "FanGraphs data uses different names in the `Team` category for the data they collected for the fielding statistics (this is in our fielding_dashboard and fielding_advanced dataframes). We had to convert these names to be the same as what is used across the other dataframes to distinguish teams, which is a conventional three letter abbreviation. We did this by creating a dictionary with the needed changes for all 30 teams and then passing that through the dataframe with the `.replace()` method."
   ]
  },
  {
   "cell_type": "code",
   "execution_count": 7,
   "metadata": {},
   "outputs": [],
   "source": [
    "team_name_dictionary = {'Angels': 'LAA', 'Braves': 'ATL', 'Astros': 'HOU', 'Athletics': 'OAK', 'Blue Jays': 'TOR', 'Royals': 'KCR', 'Tigers': 'DET', \n",
    "                       'Twins': 'MIN', 'White Sox': 'CHW', 'Yankees': 'NYY', 'Brewers': 'MIL', 'Cardinals': 'STL', 'Cubs': 'CHC', 'Devil Rays': 'TBR',\n",
    "                       'Diamondbacks': 'ARI', 'Dodgers': 'LAD', 'Giants': 'SFG', 'Indians': 'CLE', 'Mariners': 'SEA', 'Marlins': 'MIA', 'Mets': 'NYM',\n",
    "                       'Nationals': 'WSN', 'Orioles': 'BAL', 'Padres': 'SDP', 'Phillies': 'PHI', 'Pirates': 'PIT', 'Rangers': 'TEX', 'Red Sox': 'BOS',\n",
    "                       'Reds': 'CIN', 'Rockies': 'COL', 'Rays': 'TBR'}\n",
    "fielding_dashboard = fielding_dashboard.replace(team_name_dictionary, value=None)\n",
    "fielding_advanced = fielding_advanced.replace(team_name_dictionary, value=None)"
   ]
  },
  {
   "cell_type": "markdown",
   "metadata": {},
   "source": [
    "There was also an inconsistency with the way two teams were named because they rebranded during the time frame that we are using. The Miami Marlins (`MIA`) used to be the Florida Marlins (`FLA`) and the Tamba Bay Rays (`TBR`) used to be the Tampa Bay Devil Rays (`TBD`). These are the same franchises so they should be called the same name in our data. We already resolved this in the fielding data based on how we constructed our dictionary, but we had to resolve these inconsistencies in our other dataframes."
   ]
  },
  {
   "cell_type": "code",
   "execution_count": 8,
   "metadata": {},
   "outputs": [],
   "source": [
    "florida_renames = {'FLA': 'MIA', 'TBD': 'TBR'}\n",
    "hitting_dashboard = hitting_dashboard.replace(florida_renames, value=None)\n",
    "hitting_standard = hitting_standard.replace(florida_renames, value=None)\n",
    "hitting_advanced = hitting_advanced.replace(florida_renames, value=None)\n",
    "pitching_dashboard = pitching_dashboard.replace(florida_renames, value=None)\n",
    "pitching_standard = pitching_standard.replace(florida_renames, value=None)\n",
    "pitching_advanced = pitching_advanced.replace(florida_renames, value=None)"
   ]
  },
  {
   "cell_type": "markdown",
   "metadata": {},
   "source": [
    "In order to combine all of our dataframes, we needed to make sure that all of the data was in the same order so we could concatenate across and include the proper data for each team in their respective row. In order to do this we sort our data in each dataframe by `Season` (chronologically) and then by `Team` (alphabetically). We then reset the index and dropped the index column to ensure that we didn't have any unnecessary columns and all of our data was in order."
   ]
  },
  {
   "cell_type": "code",
   "execution_count": 9,
   "metadata": {},
   "outputs": [],
   "source": [
    "hitting_dashboard = hitting_dashboard.sort_values(by=['Season', 'Team']).reset_index().drop(columns='index')\n",
    "hitting_standard = hitting_standard.sort_values(by=['Season', 'Team']).reset_index().drop(columns='index')\n",
    "hitting_advanced = hitting_advanced.sort_values(by=['Season', 'Team']).reset_index().drop(columns='index')\n",
    "pitching_dashboard = pitching_dashboard.sort_values(by=['Season', 'Team']).reset_index().drop(columns='index')\n",
    "pitching_standard = pitching_standard.sort_values(by=['Season', 'Team']).reset_index().drop(columns='index')\n",
    "pitching_advanced = pitching_advanced.sort_values(by=['Season', 'Team']).reset_index().drop(columns='index')\n",
    "fielding_dashboard = fielding_dashboard.sort_values(by=['Season', 'Team']).reset_index().drop(columns='index')\n",
    "fielding_advanced = fielding_advanced.sort_values(by=['Season', 'Team']).reset_index().drop(columns='index')"
   ]
  },
  {
   "cell_type": "markdown",
   "metadata": {},
   "source": [
    "Now that our dataframes were properly sorted, we were able to concatenate the data with its appropriate category. We will combine everything later, but to allow us to keep track of the columns in our subsequent renaming step we decided to keep hitting/pitching/fielding data divided for this part. In order to combine each category, we used the `pd.concat()` method and specficied to concatenate along `axis = 1` in order to \"smoosh\" together the columns. Additionally, we used the season and team data to make sure everything was in the same order, but following the concatenation we had duplicates of that information, so we eliminated those with the `.duplicated()` method."
   ]
  },
  {
   "cell_type": "code",
   "execution_count": 10,
   "metadata": {},
   "outputs": [],
   "source": [
    "hitting = pd.concat([hitting_dashboard, hitting_standard, hitting_advanced], axis=1)\n",
    "hitting = hitting.loc[:,~hitting.columns.duplicated()]\n",
    "\n",
    "pitching = pd.concat([pitching_dashboard, pitching_standard, pitching_advanced], axis=1)\n",
    "pitching = pitching.loc[:,~pitching.columns.duplicated()]\n",
    "\n",
    "fielding = pd.concat([fielding_dashboard, fielding_advanced], axis=1)\n",
    "fielding = fielding.loc[:,~fielding.columns.duplicated()]"
   ]
  },
  {
   "cell_type": "markdown",
   "metadata": {},
   "source": [
    "Once we made the larger hitting, pitching, and fielding dataframes, we wanted to rename our columns so that they will be easier to work with later on. The first step for all of our new dataframes was to make the column names lowercase which we did with `colname.lower()`. Then we needed to specify name changes to certain columns which had ambiguous titles, could be confused between hitting and pitching stats, or had problematic characters like % and +. For overlapping statistics (like `H` we clarified `hit_hits` and `pitch_hits` for who those hits belonged to."
   ]
  },
  {
   "cell_type": "code",
   "execution_count": 11,
   "metadata": {},
   "outputs": [],
   "source": [
    "hitting_lower = [colname.lower() for colname in hitting.columns]\n",
    "hitting.columns = hitting_lower;\n",
    "hitting = hitting.rename(columns = {'hr':'hit_hr', 'r':'runs_scored', 'bb%':'hit_bb_rate', 'k%':'hit_k_rate', 'avg':'bat_avg', 'wrc+':'wrc_plus', 'war':'hit_fwar', 'h':'hit_hits'})\n",
    "\n",
    "pitching_lower = [colname.lower() for colname in pitching.columns]\n",
    "pitching.columns = pitching_lower;\n",
    "pitching = pitching.rename(columns = {'w':'wins', 'l':'losses', 'sv':'saves', 'gs':'games', 'war':'pitch_fwar', 'h':'pitch_hits', 'r':'runs_allowed', 'hr': 'pitch_hr', 'k%':'pitch_k_rate', 'bb%':'pitch_bb_rate', 'bb':'pitch_bb','so':'pitch_so'})\n",
    "\n",
    "fielding_lower = [colname.lower() for colname in fielding.columns]\n",
    "fielding.columns = fielding_lower;"
   ]
  },
  {
   "cell_type": "markdown",
   "metadata": {},
   "source": [
    "Finally we were ready to concatenate all of the data. We followed a similar process to when we concatenated all of the hitting/pitching/fielding data separately, but this time we made one big dataframe with all data we could want to access. We did a similar process to eliminate duplicated columns (team and season)."
   ]
  },
  {
   "cell_type": "code",
   "execution_count": 12,
   "metadata": {},
   "outputs": [],
   "source": [
    "baseball_data = pd.concat([hitting, pitching, fielding], axis=1)\n",
    "baseball_data = baseball_data.loc[:,~baseball_data.columns.duplicated()]"
   ]
  },
  {
   "cell_type": "markdown",
   "metadata": {},
   "source": [
    "Now we have to make sure our data is in a format that we can work with. Some of our data was stored as objects that were percents, but we want to be able to manipulate those as floats. Below we converted all of these columns to floats, this applied to all of the columns with `rate` in the title (i.e. `pitch_k_rate`). To do this we had to specify them as strings, eliminate the % sign, convert that value to a float and then divide by 100 (since we want them as a decimal representing a rate)."
   ]
  },
  {
   "cell_type": "code",
   "execution_count": 13,
   "metadata": {},
   "outputs": [],
   "source": [
    "baseball_data.loc[:,'hit_bb_rate'] = baseball_data.loc[:,'hit_bb_rate'].str.rstrip('%').astype('float') / 100.0\n",
    "baseball_data.loc[:,'hit_k_rate'] = baseball_data.loc[:,'hit_k_rate'].str.rstrip('%').astype('float') / 100.0\n",
    "baseball_data.loc[:,'pitch_k_rate'] = baseball_data.loc[:,'pitch_k_rate'].str.rstrip('%').astype('float') / 100.0\n",
    "baseball_data.loc[:,'pitch_bb_rate'] = baseball_data.loc[:,'pitch_bb_rate'].str.rstrip('%').astype('float') / 100.0"
   ]
  },
  {
   "cell_type": "markdown",
   "metadata": {},
   "source": [
    "Although we already have data on wins, a team's success is often determined by win percentage (which is what is used when determining playoff teams) since teams usually play the same number of games (162) but there is a chance for slight variation. In order to include this, we added a column called `win_pct` which we calculated using `wins` and `games`. Similarly, we created a run differential column called `run_diff` using `runs_scored` and `runs_allowed` because this is a quick way to tell whether a team's offense produced more or their pitching/fielding produced less throughout the season. Although we want to stick with specific quality analysis when answering our research questions, this is a good diagnostic statistic to potentially use as a measure of success. "
   ]
  },
  {
   "cell_type": "code",
   "execution_count": 14,
   "metadata": {},
   "outputs": [],
   "source": [
    "baseball_data['win_pct'] = baseball_data['wins']/baseball_data['games']\n",
    "baseball_data['run_diff'] = baseball_data['runs_scored'] - baseball_data['runs_allowed']"
   ]
  },
  {
   "cell_type": "code",
   "execution_count": 15,
   "metadata": {},
   "outputs": [],
   "source": [
    "baseball_data.to_csv('baseball_data.csv')"
   ]
  },
  {
   "cell_type": "markdown",
   "metadata": {},
   "source": [
    "Here is our cleaned data:"
   ]
  },
  {
   "cell_type": "code",
   "execution_count": 16,
   "metadata": {
    "collapsed": true,
    "jupyter": {
     "outputs_hidden": true
    }
   },
   "outputs": [
    {
     "data": {
      "text/html": [
       "<div>\n",
       "<style scoped>\n",
       "    .dataframe tbody tr th:only-of-type {\n",
       "        vertical-align: middle;\n",
       "    }\n",
       "\n",
       "    .dataframe tbody tr th {\n",
       "        vertical-align: top;\n",
       "    }\n",
       "\n",
       "    .dataframe thead th {\n",
       "        text-align: right;\n",
       "    }\n",
       "</style>\n",
       "<table border=\"1\" class=\"dataframe\">\n",
       "  <thead>\n",
       "    <tr style=\"text-align: right;\">\n",
       "      <th></th>\n",
       "      <th>season</th>\n",
       "      <th>team</th>\n",
       "      <th>pa</th>\n",
       "      <th>hit_hr</th>\n",
       "      <th>runs_scored</th>\n",
       "      <th>rbi</th>\n",
       "      <th>hit_bb_rate</th>\n",
       "      <th>hit_k_rate</th>\n",
       "      <th>iso</th>\n",
       "      <th>bat_avg</th>\n",
       "      <th>...</th>\n",
       "      <th>pitch_bb</th>\n",
       "      <th>pitch_so</th>\n",
       "      <th>pitch_k_rate</th>\n",
       "      <th>pitch_bb_rate</th>\n",
       "      <th>whip</th>\n",
       "      <th>fp</th>\n",
       "      <th>drs</th>\n",
       "      <th>uzr</th>\n",
       "      <th>win_pct</th>\n",
       "      <th>run_diff</th>\n",
       "    </tr>\n",
       "  </thead>\n",
       "  <tbody>\n",
       "    <tr>\n",
       "      <td>0</td>\n",
       "      <td>2006</td>\n",
       "      <td>ARI</td>\n",
       "      <td>6330</td>\n",
       "      <td>160</td>\n",
       "      <td>773</td>\n",
       "      <td>743</td>\n",
       "      <td>0.080</td>\n",
       "      <td>0.152</td>\n",
       "      <td>0.157</td>\n",
       "      <td>0.267</td>\n",
       "      <td>...</td>\n",
       "      <td>536</td>\n",
       "      <td>1115</td>\n",
       "      <td>0.176</td>\n",
       "      <td>0.085</td>\n",
       "      <td>1.40</td>\n",
       "      <td>0.983</td>\n",
       "      <td>5</td>\n",
       "      <td>-27.7</td>\n",
       "      <td>0.469136</td>\n",
       "      <td>-15</td>\n",
       "    </tr>\n",
       "    <tr>\n",
       "      <td>1</td>\n",
       "      <td>2006</td>\n",
       "      <td>ATL</td>\n",
       "      <td>6284</td>\n",
       "      <td>222</td>\n",
       "      <td>849</td>\n",
       "      <td>818</td>\n",
       "      <td>0.084</td>\n",
       "      <td>0.186</td>\n",
       "      <td>0.184</td>\n",
       "      <td>0.270</td>\n",
       "      <td>...</td>\n",
       "      <td>572</td>\n",
       "      <td>1049</td>\n",
       "      <td>0.165</td>\n",
       "      <td>0.090</td>\n",
       "      <td>1.46</td>\n",
       "      <td>0.984</td>\n",
       "      <td>-13</td>\n",
       "      <td>10.0</td>\n",
       "      <td>0.487654</td>\n",
       "      <td>44</td>\n",
       "    </tr>\n",
       "    <tr>\n",
       "      <td>2</td>\n",
       "      <td>2006</td>\n",
       "      <td>BAL</td>\n",
       "      <td>6240</td>\n",
       "      <td>164</td>\n",
       "      <td>768</td>\n",
       "      <td>727</td>\n",
       "      <td>0.076</td>\n",
       "      <td>0.141</td>\n",
       "      <td>0.146</td>\n",
       "      <td>0.277</td>\n",
       "      <td>...</td>\n",
       "      <td>613</td>\n",
       "      <td>1016</td>\n",
       "      <td>0.161</td>\n",
       "      <td>0.097</td>\n",
       "      <td>1.54</td>\n",
       "      <td>0.983</td>\n",
       "      <td>-13</td>\n",
       "      <td>4.8</td>\n",
       "      <td>0.432099</td>\n",
       "      <td>-131</td>\n",
       "    </tr>\n",
       "    <tr>\n",
       "      <td>3</td>\n",
       "      <td>2006</td>\n",
       "      <td>BOS</td>\n",
       "      <td>6435</td>\n",
       "      <td>192</td>\n",
       "      <td>820</td>\n",
       "      <td>777</td>\n",
       "      <td>0.104</td>\n",
       "      <td>0.164</td>\n",
       "      <td>0.166</td>\n",
       "      <td>0.269</td>\n",
       "      <td>...</td>\n",
       "      <td>509</td>\n",
       "      <td>1070</td>\n",
       "      <td>0.170</td>\n",
       "      <td>0.081</td>\n",
       "      <td>1.44</td>\n",
       "      <td>0.989</td>\n",
       "      <td>-57</td>\n",
       "      <td>-21.9</td>\n",
       "      <td>0.530864</td>\n",
       "      <td>-5</td>\n",
       "    </tr>\n",
       "    <tr>\n",
       "      <td>4</td>\n",
       "      <td>2006</td>\n",
       "      <td>CHC</td>\n",
       "      <td>6147</td>\n",
       "      <td>166</td>\n",
       "      <td>716</td>\n",
       "      <td>677</td>\n",
       "      <td>0.064</td>\n",
       "      <td>0.151</td>\n",
       "      <td>0.154</td>\n",
       "      <td>0.268</td>\n",
       "      <td>...</td>\n",
       "      <td>687</td>\n",
       "      <td>1250</td>\n",
       "      <td>0.196</td>\n",
       "      <td>0.108</td>\n",
       "      <td>1.45</td>\n",
       "      <td>0.982</td>\n",
       "      <td>-16</td>\n",
       "      <td>31.2</td>\n",
       "      <td>0.407407</td>\n",
       "      <td>-118</td>\n",
       "    </tr>\n",
       "    <tr>\n",
       "      <td>...</td>\n",
       "      <td>...</td>\n",
       "      <td>...</td>\n",
       "      <td>...</td>\n",
       "      <td>...</td>\n",
       "      <td>...</td>\n",
       "      <td>...</td>\n",
       "      <td>...</td>\n",
       "      <td>...</td>\n",
       "      <td>...</td>\n",
       "      <td>...</td>\n",
       "      <td>...</td>\n",
       "      <td>...</td>\n",
       "      <td>...</td>\n",
       "      <td>...</td>\n",
       "      <td>...</td>\n",
       "      <td>...</td>\n",
       "      <td>...</td>\n",
       "      <td>...</td>\n",
       "      <td>...</td>\n",
       "      <td>...</td>\n",
       "      <td>...</td>\n",
       "    </tr>\n",
       "    <tr>\n",
       "      <td>415</td>\n",
       "      <td>2019</td>\n",
       "      <td>STL</td>\n",
       "      <td>6167</td>\n",
       "      <td>210</td>\n",
       "      <td>764</td>\n",
       "      <td>714</td>\n",
       "      <td>0.091</td>\n",
       "      <td>0.230</td>\n",
       "      <td>0.170</td>\n",
       "      <td>0.245</td>\n",
       "      <td>...</td>\n",
       "      <td>545</td>\n",
       "      <td>1399</td>\n",
       "      <td>0.231</td>\n",
       "      <td>0.090</td>\n",
       "      <td>1.27</td>\n",
       "      <td>0.989</td>\n",
       "      <td>91</td>\n",
       "      <td>32.8</td>\n",
       "      <td>0.561728</td>\n",
       "      <td>102</td>\n",
       "    </tr>\n",
       "    <tr>\n",
       "      <td>416</td>\n",
       "      <td>2019</td>\n",
       "      <td>TBR</td>\n",
       "      <td>6285</td>\n",
       "      <td>217</td>\n",
       "      <td>769</td>\n",
       "      <td>730</td>\n",
       "      <td>0.086</td>\n",
       "      <td>0.238</td>\n",
       "      <td>0.178</td>\n",
       "      <td>0.254</td>\n",
       "      <td>...</td>\n",
       "      <td>453</td>\n",
       "      <td>1621</td>\n",
       "      <td>0.266</td>\n",
       "      <td>0.074</td>\n",
       "      <td>1.17</td>\n",
       "      <td>0.985</td>\n",
       "      <td>53</td>\n",
       "      <td>-2.1</td>\n",
       "      <td>0.592593</td>\n",
       "      <td>113</td>\n",
       "    </tr>\n",
       "    <tr>\n",
       "      <td>417</td>\n",
       "      <td>2019</td>\n",
       "      <td>TEX</td>\n",
       "      <td>6204</td>\n",
       "      <td>223</td>\n",
       "      <td>810</td>\n",
       "      <td>765</td>\n",
       "      <td>0.086</td>\n",
       "      <td>0.254</td>\n",
       "      <td>0.183</td>\n",
       "      <td>0.248</td>\n",
       "      <td>...</td>\n",
       "      <td>583</td>\n",
       "      <td>1379</td>\n",
       "      <td>0.217</td>\n",
       "      <td>0.092</td>\n",
       "      <td>1.46</td>\n",
       "      <td>0.982</td>\n",
       "      <td>-52</td>\n",
       "      <td>-11.1</td>\n",
       "      <td>0.481481</td>\n",
       "      <td>-68</td>\n",
       "    </tr>\n",
       "    <tr>\n",
       "      <td>418</td>\n",
       "      <td>2019</td>\n",
       "      <td>TOR</td>\n",
       "      <td>6091</td>\n",
       "      <td>247</td>\n",
       "      <td>726</td>\n",
       "      <td>697</td>\n",
       "      <td>0.084</td>\n",
       "      <td>0.249</td>\n",
       "      <td>0.192</td>\n",
       "      <td>0.236</td>\n",
       "      <td>...</td>\n",
       "      <td>604</td>\n",
       "      <td>1332</td>\n",
       "      <td>0.211</td>\n",
       "      <td>0.096</td>\n",
       "      <td>1.43</td>\n",
       "      <td>0.984</td>\n",
       "      <td>0</td>\n",
       "      <td>-24.9</td>\n",
       "      <td>0.413580</td>\n",
       "      <td>-102</td>\n",
       "    </tr>\n",
       "    <tr>\n",
       "      <td>419</td>\n",
       "      <td>2019</td>\n",
       "      <td>WSN</td>\n",
       "      <td>6267</td>\n",
       "      <td>231</td>\n",
       "      <td>873</td>\n",
       "      <td>824</td>\n",
       "      <td>0.093</td>\n",
       "      <td>0.209</td>\n",
       "      <td>0.190</td>\n",
       "      <td>0.265</td>\n",
       "      <td>...</td>\n",
       "      <td>517</td>\n",
       "      <td>1511</td>\n",
       "      <td>0.246</td>\n",
       "      <td>0.084</td>\n",
       "      <td>1.29</td>\n",
       "      <td>0.985</td>\n",
       "      <td>-3</td>\n",
       "      <td>2.9</td>\n",
       "      <td>0.574074</td>\n",
       "      <td>149</td>\n",
       "    </tr>\n",
       "  </tbody>\n",
       "</table>\n",
       "<p>420 rows × 39 columns</p>\n",
       "</div>"
      ],
      "text/plain": [
       "     season team    pa  hit_hr  runs_scored  rbi  hit_bb_rate  hit_k_rate  \\\n",
       "0      2006  ARI  6330     160          773  743        0.080       0.152   \n",
       "1      2006  ATL  6284     222          849  818        0.084       0.186   \n",
       "2      2006  BAL  6240     164          768  727        0.076       0.141   \n",
       "3      2006  BOS  6435     192          820  777        0.104       0.164   \n",
       "4      2006  CHC  6147     166          716  677        0.064       0.151   \n",
       "..      ...  ...   ...     ...          ...  ...          ...         ...   \n",
       "415    2019  STL  6167     210          764  714        0.091       0.230   \n",
       "416    2019  TBR  6285     217          769  730        0.086       0.238   \n",
       "417    2019  TEX  6204     223          810  765        0.086       0.254   \n",
       "418    2019  TOR  6091     247          726  697        0.084       0.249   \n",
       "419    2019  WSN  6267     231          873  824        0.093       0.209   \n",
       "\n",
       "       iso  bat_avg  ...  pitch_bb  pitch_so  pitch_k_rate  pitch_bb_rate  \\\n",
       "0    0.157    0.267  ...       536      1115         0.176          0.085   \n",
       "1    0.184    0.270  ...       572      1049         0.165          0.090   \n",
       "2    0.146    0.277  ...       613      1016         0.161          0.097   \n",
       "3    0.166    0.269  ...       509      1070         0.170          0.081   \n",
       "4    0.154    0.268  ...       687      1250         0.196          0.108   \n",
       "..     ...      ...  ...       ...       ...           ...            ...   \n",
       "415  0.170    0.245  ...       545      1399         0.231          0.090   \n",
       "416  0.178    0.254  ...       453      1621         0.266          0.074   \n",
       "417  0.183    0.248  ...       583      1379         0.217          0.092   \n",
       "418  0.192    0.236  ...       604      1332         0.211          0.096   \n",
       "419  0.190    0.265  ...       517      1511         0.246          0.084   \n",
       "\n",
       "     whip     fp  drs   uzr   win_pct  run_diff  \n",
       "0    1.40  0.983    5 -27.7  0.469136       -15  \n",
       "1    1.46  0.984  -13  10.0  0.487654        44  \n",
       "2    1.54  0.983  -13   4.8  0.432099      -131  \n",
       "3    1.44  0.989  -57 -21.9  0.530864        -5  \n",
       "4    1.45  0.982  -16  31.2  0.407407      -118  \n",
       "..    ...    ...  ...   ...       ...       ...  \n",
       "415  1.27  0.989   91  32.8  0.561728       102  \n",
       "416  1.17  0.985   53  -2.1  0.592593       113  \n",
       "417  1.46  0.982  -52 -11.1  0.481481       -68  \n",
       "418  1.43  0.984    0 -24.9  0.413580      -102  \n",
       "419  1.29  0.985   -3   2.9  0.574074       149  \n",
       "\n",
       "[420 rows x 39 columns]"
      ]
     },
     "metadata": {},
     "output_type": "display_data"
    }
   ],
   "source": [
    "display(baseball_data)"
   ]
  },
  {
   "cell_type": "code",
   "execution_count": 23,
   "metadata": {},
   "outputs": [
    {
     "data": {
      "text/plain": [
       "Index(['season', 'team', 'pa', 'hit_hr', 'runs_scored', 'rbi', 'hit_bb_rate',\n",
       "       'hit_k_rate', 'iso', 'bat_avg', 'obp', 'slg', 'woba', 'wrc_plus',\n",
       "       'hit_fwar', 'hit_hits', 'ops', 'wins', 'losses', 'saves', 'games', 'ip',\n",
       "       'era', 'fip', 'pitch_fwar', 'pitch_hits', 'runs_allowed', 'er',\n",
       "       'pitch_hr', 'pitch_bb', 'pitch_so', 'pitch_k_rate', 'pitch_bb_rate',\n",
       "       'whip', 'fp', 'drs', 'uzr', 'win_pct', 'run_diff'],\n",
       "      dtype='object')"
      ]
     },
     "execution_count": 23,
     "metadata": {},
     "output_type": "execute_result"
    }
   ],
   "source": [
    "baseball_data.columns"
   ]
  },
  {
   "cell_type": "markdown",
   "metadata": {},
   "source": [
    "### Data Description\n",
    "\n",
    "**What are the observations (rows) and the attributes (columns)?**\n",
    "\n",
    "Each row represents one season for one Major League Baseball team. The seasons range from 2006 to 2019. Each of the 30 MLB teams has data for each of these years, making a total of 420 observations.\n",
    "\n",
    "Each column represents a particular baseball statistic, averaged or summed over all players on a team, depending on the statistic. Here is a chart which describes the meaning of each column in our dataset:\n",
    "\n",
    "| Variable Name | Description |\n",
    "| --- | --- |\n",
    "| season | Year |\n",
    "| team | Name of the team |\n",
    "| pa | Number of plate appearances |\n",
    "| hit_hr | Number of home runs hit |\n",
    "| runs_scored | Number of runs scored |\n",
    "| rbi | Number of runs batted in |\n",
    "| hit_bb_rate | Rate at which batters are walked |\n",
    "| hit_k_rate | Rate at which batters strikeout |\n",
    "| iso | _Isolated power (based on extra-base hits)_ |\n",
    "| bat_avg | Batting average |\n",
    "| obp | On-base percentage |\n",
    "| slg | _Slugging percentage: Average number of bases earned per plate appearance, excluding walks_ |\n",
    "| woba | _Weighted on-base average_ |\n",
    "| wrc_plus | _Weighted runs created plus_ |\n",
    "| hit_fwar | __ |\n",
    "| hit_hits | Number of hits |\n",
    "| ops | On-base percentage plus slugging |\n",
    "| wins | _Number of games won (pitching)_ |\n",
    "| losses | _Number of games lost (pitching)_ |\n",
    "| saves | _Number of saves (pitching)_ |\n",
    "| games | Number of games played |\n",
    "| ip | Number of innings pitched |\n",
    "| era | Earned run average |\n",
    "| fip | _Fielding Independent Pitching:_|\n",
    "| pitch_fwar | __ |\n",
    "| pitch_hits | Hits allowed |\n",
    "| runs_allowed | Runs allowed |\n",
    "| er | Number of earned runs |\n",
    "| pitch_hr | Number of home runs allowed |\n",
    "| pitch_bb | Number of walks allowed |\n",
    "| pitch_so | Number of strikeouts pitched |\n",
    "| pitch_k_rate | Rate of strikeouts pitched |\n",
    "| pitch_bb_rate | Rate of walks allowed |\n",
    "| whip | Walks and hits per inning pitched |\n",
    "| fp | Fielding percentage |\n",
    "| drs | Defensive runs saved |\n",
    "| uzr | _Ultimate zone rating:_ |\n",
    "| win_pct | Percent of games won |\n",
    "| run_diff | _Run differential:_ |\n",
    "\n",
    "Overall, the columns include information on hitting, pitching, and fielding, in addition to a few measures of overall team performance.\n",
    "\n",
    "**Why was this dataset created?**\n",
    "\n",
    "We created this dataset to aggregate various statistics for all Major League Baseball teams from 2006 to 2019. We chose to take data starting in 2006 because it is considered to be the first season in the start of the current \"Post-Steroid Era\" according to Dr. Michael Woltring et al. in [_The Sport Journal_](https://thesportjournal.org/article/examining-perceptions-of-baseballs-eras/). Also, although data exists from the 2020 season, teams played fewer games than usual in 2020, and there were some rule changes specifically related to the COVID-19 pandemic, as detailed in [the MLB's announcement of the 2020 season](https://www.mlb.com/news/mlb-announces-2020-regular-season). For this reason, our dataset ends with the 2019 season. \n",
    "\n",
    "Our dataset contains data not only about one aspect of baseball (i.e., pitching, fielding, or hitting), but combines information about all of these aspects into one dataset. This is useful because the intended use of this dataset is to analyze the relative importance of pitching, fielding, and hitting (three different aspects in which a team can invest) to a team's success.\n",
    "\n",
    "**Who funded the creation of the dataset?**\n",
    "\n",
    "The raw data which makes up our dataset comes from [fangraphs.com](fangraphs.com), a baseball statistics and analytics website. FanGraphs is funded by individual membership subscriptions, and collects and maintains their data for baseball fans. Their website provides an easy-to-use interface for users to filter data by team, year, and other aspects, after which users can easily compare statistics of interest. FanGraphs obtains their data from various sources. According to their website, \"All major league baseball data including pitch type, velocity, batted ball location, and play-by-play data [is] provided by Sports Info Solutions;\" and \"Major League and Minor League Baseball data [is] provided by Major League Baseball.\"\n",
    "\n",
    "**What processes might have influenced what data was observed and recorded and what was not?**\n",
    "\n",
    "In general, Major League Baseball, Sports Info Solutions, and by proxy FanGraphs are very thorough in their data collection as they include all games for all teams in their data. Due to the nature of the availability of data in baseball in the twenty-first century, the data observed should be complete and unbiased. This means that the information that is missing is largely data we have chosen to omit, we were unable to include, or which are unmeasurable. For example, we did not include any statistics that require technology to gather, like [Statcast](https://www.mlb.com/glossary/statcast) data, which includes measurements such as exit velocity (how fast a ball is hit by a hitter). While this limits the information available in our dataset, that kind of data was not collected across the entire era which we are examining, so our dataset instead focuses on statistics that are collected (or calculated) in the more traditional way. \n",
    "\n",
    "The biggest influence on the data which is unaccounted for is park effects for certain teams. For example, the Colorado Rockies play half their games every season at Coors Field, which is at altitude (almost a mile above sea level). Therefore, they might have more offense and their pitchers might allow more runs because of the location of their field. However, we expect to still be able to detect whether their pitching or hitting played a more important role using statistics from our dataset like run differential or win percentage. Nevertheless, data generated by games played at parks with these extreme effects may still be outliers, and our dataset does not have information to account for this.\n",
    "\n",
    "**What preprocessing was done, and how did the data come to be in the form that you are using?**\n",
    "\n",
    "The preprocessing that was done is described in more detail in our Data Cleaning section. However, here is a summary. We downloaded 8 `.csv` files from [fangraphs.com](fangraphs.com): 3 for hitting, 3 for pitching, and 2 for fielding. Each of these `.csv` files contained 420 observations, one for each Major League Baseball team across the years 2006 - 2019. We dropped overlapping columns and those not needed for our data analysis, and renamed the remaining columns to make them more indicative of their contents and to eliminate ambiguity (e.g., between runs scored and runs allowed). Some of the team naming was inconsistent, so we also renamed some of the observations to restore consistency. We also changed some of the columns to numeric values from strings. Eventually, we combined information from all 8 dataframes together to obtain our final dataset.\n",
    "\n",
    "**If people are involved, were they aware of the data collection and if so, what purpose did they expect the data to be used for?**\n",
    "\n",
    "The data does originate from people. However, the observations in our dataset are aggregated across entire Major League Baseball teams, so no data is specifically tied to a person. Major League Baseball has a lot of data in the public domain, and the baseball players who played in the games that generated this data were aware of the data collection. In general, players know that there is no limitation on what baseball data will be used for. They are aware that it is generally intended for baseball researchers to learn about trends in the game and compare players and teams to each other.\n",
    "\n",
    "**Where can your raw source data be found, if applicable? Provide a link to the raw data (hosted in a Cornell Google Drive or Cornell Box).**\n",
    "\n",
    "Our raw source data can be found in this [Cornell Google Drive folder](https://drive.google.com/drive/folders/1uDGY4ISnM3rEx5NPR95Btq6YsGBkI9nJ?usp=sharing). Our cleaned data is named `baseball_data.csv`, and the raw source data form which we obtained the cleaned data is the 8 other `.csv` files."
   ]
  },
  {
   "cell_type": "markdown",
   "metadata": {},
   "source": [
    "### Data Limitations\n",
    "- One limitation is an inability to control for park factors within this data. For example, the Colorado Rockies play in Denver which is at altitude and thus ball movement is affected. This means, anecdotally, hitters tend to display more power in Colorado and pitchers tend to struggle more. Data in other research definitely supports this, but it will be interesting to see how that shows up in our analysis. Depending on what statistics we use, it is possible that these stats will balance out within the team data, but looking at isolated hitting and pitching stats we would see more extremes since the Rockies play half their games in their own ballpark. Less extreme park effects may also come into play since some parks are termed \"pitcher\" parks and others are referred to as \"hitter\" parks ([\"Ranking MLB's Most Hitter-Friendly Ballparks, by the Numbers\"](https://bleacherreport.com/articles/2022901-ranking-mlbs-most-hitter-friendly-ballparks-by-the-numbers)). This actually could be something to look deeper into our data for just to see how real these terms are when applied to teams like the Milwaukee Brewers. But a team like the Brewers who play in Miller Park, which is considered a good hitter park, might want to focus more on developing a strong offense where as a team in a pitcher park might want to develop a strong rotation. Or perhaps since both sides are affected by these it wouldn't matter. This might mean that some teams should take our conclusions with a grain of salt if perhaps their home ballpark is better suited for hitters/pitchers. Regardless, it seems that park factors may limit our ability to distinguish some trends across teams.\n",
    "- We also don't have any data about strength of schedule. This means that we won't be able to account for offense being suppressed because a team may have had to play against a particularly strong pitching rotation more often than a weak pitching rotation. To give an example from this year the San Diego Padres will have to play against the Los Angeles Dodgers, who have one of the best starting rotations in MLB right now, a lot more than they will play the Baltimore Orioles, who really don't have that stellar of a starting rotation at the moment. This also would apply to pitchers facing particularly formidable line ups. That being said, we are looking at a lot of teams and MLB does try to create even schedules for teams, so the hope would be that this would balance out across our data. Nevertheless that is an assumption we are making.\n",
    "- A third limitation ties into the limitation above about strength of schedule but it is more just the nature of how MLB schedules are built in terms of the teams that you play (strength of those teams aside). Teams play a plurality of their games within their own division and a majority of games (including that plurality) within their own league ([wikipedia.org/wiki/Major_League_Baseball_schedule](https://en.wikipedia.org/wiki/Major_League_Baseball_schedule)). MLB is divided into two leagues, the American League (AL) and the National League (NL). The leagues are essentially the same, but in the AL they have a designated hitter (DH) who bats for the pitcher whereas in the NL the pitcher still bats (for now - this will probably change in the coming seasons). This means that on average we would expect AL teams to probably net more offense, but we should still be able to get an idea of relative strength of offense/defense within a team. Also although this effect is noticeable, it shouldn't be so big that we can't say anything about the importance of offense vs. pitching vs. fielding for an MLB team. When an AL team plays an NL team, they obviously abide by the same rules (i.e., they both have a DH or neither does) depending on who the home team is. That means that there isn't any disparity within a game. That being said, the above still holds that we may see AL teams tend to have more offense and NL teams tend to have more dominant pitching. Still this effect shouldn't be overpowering and we should still be able to tell whether offense or defense is more valuable. Also within teams own trends, this won't really matter with the exception of the Houston Astros who did switch to the AL in 2013 ([wikipedia.org/wiki/Houston_Astros](https://en.wikipedia.org/wiki/Houston_Astros))."
   ]
  },
  {
   "cell_type": "markdown",
   "metadata": {},
   "source": [
    "### Exploratory Data Analysis"
   ]
  },
  {
   "cell_type": "code",
   "execution_count": 21,
   "metadata": {},
   "outputs": [
    {
     "data": {
      "image/png": "[encoded data removed]",
      "text/plain": [
       "<Figure size 432x288 with 1 Axes>"
      ]
     },
     "metadata": {
      "needs_background": "light"
     },
     "output_type": "display_data"
    },
    {
     "data": {
      "image/png": "[encoded data removed]",
      "text/plain": [
       "<Figure size 432x288 with 1 Axes>"
      ]
     },
     "metadata": {
      "needs_background": "light"
     },
     "output_type": "display_data"
    }
   ],
   "source": [
    "import matplotlib.pyplot as plt\n",
    "import seaborn as sns\n",
    "\n",
    "by_season = baseball_data.groupby(by='season')\n",
    "runs_tot = by_season['runs_scored'].mean()\n",
    "plt.plot(range(2006,2020), runs_tot)\n",
    "plt.xlabel('Year')\n",
    "plt.ylabel('Average runs scored')\n",
    "plt.title('Average runs scored across all teams by season')\n",
    "plt.show()\n",
    "\n",
    "hr_tot = by_season['hit_hr'].mean()\n",
    "plt.plot(range(2006,2020), hr_tot)\n",
    "plt.xlabel('Year')\n",
    "plt.ylabel('Average home runs')\n",
    "plt.title('Average home runs across all teams by season')\n",
    "plt.show()"
   ]
  },
  {
   "cell_type": "code",
   "execution_count": 18,
   "metadata": {},
   "outputs": [
    {
     "data": {
      "image/png": "[encoded data removed]",
      "text/plain": [
       "<Figure size 432x288 with 1 Axes>"
      ]
     },
     "metadata": {
      "needs_background": "light"
     },
     "output_type": "display_data"
    },
    {
     "name": "stdout",
     "output_type": "stream",
     "text": [
      "The correlation between runs scored and winning percentage is 0.565.\n"
     ]
    }
   ],
   "source": [
    "plt.scatter(baseball_data.runs_scored, baseball_data.win_pct)\n",
    "plt.xlabel('Total runs scored')\n",
    "plt.ylabel('Win percentage')\n",
    "plt.title('Win percentage by total runs scored')\n",
    "plt.show()\n",
    "\n",
    "win_score_corr = baseball_data.corr().loc['runs_scored', 'win_pct']\n",
    "print('The correlation between runs scored and winning percentage is {:.3f}.'.format(win_score_corr))"
   ]
  },
  {
   "cell_type": "code",
   "execution_count": 19,
   "metadata": {},
   "outputs": [
    {
     "data": {
      "image/png": "[encoded data removed]",
      "text/plain": [
       "<Figure size 432x288 with 1 Axes>"
      ]
     },
     "metadata": {
      "needs_background": "light"
     },
     "output_type": "display_data"
    },
    {
     "name": "stdout",
     "output_type": "stream",
     "text": [
      "The correlation between runs allowed and winning percentage is -0.674.\n"
     ]
    }
   ],
   "source": [
    "plt.scatter(baseball_data.runs_allowed, baseball_data.win_pct)\n",
    "plt.xlabel('Total runs allowed')\n",
    "plt.ylabel('Win percentage')\n",
    "plt.title('Win percentage by total runs allowed')\n",
    "plt.show()\n",
    "\n",
    "win_allow_corr = baseball_data.corr().loc['runs_allowed', 'win_pct']\n",
    "print('The correlation between runs allowed and winning percentage is {:.3f}.'.format(win_allow_corr))"
   ]
  },
  {
   "cell_type": "code",
   "execution_count": 20,
   "metadata": {},
   "outputs": [
    {
     "data": {
      "image/png": "[encoded data removed]",
      "text/plain": [
       "<Figure size 432x288 with 1 Axes>"
      ]
     },
     "metadata": {
      "needs_background": "light"
     },
     "output_type": "display_data"
    },
    {
     "name": "stdout",
     "output_type": "stream",
     "text": [
      "The correlation between run differential and winning percentage is 0.936.\n"
     ]
    }
   ],
   "source": [
    "plt.scatter(baseball_data.run_diff, baseball_data.win_pct)\n",
    "plt.xlabel('Run differential')\n",
    "plt.ylabel('Win percentage')\n",
    "plt.title('Win percentage by run differential')\n",
    "plt.show()\n",
    "\n",
    "win_diff_corr = baseball_data.corr().loc['run_diff', 'win_pct']\n",
    "print('The correlation between run differential and winning percentage is {:.3f}.'.format(win_diff_corr))"
   ]
  },
  {
   "cell_type": "markdown",
   "metadata": {},
   "source": [
    "### Questions for Reviewers"
   ]
  },
  {
   "cell_type": "code",
   "execution_count": null,
   "metadata": {},
   "outputs": [],
   "source": []
  },
  {
   "cell_type": "code",
   "execution_count": null,
   "metadata": {},
   "outputs": [],
   "source": []
  }
 ],
 "metadata": {
  "kernelspec": {
   "display_name": "Python 3",
   "language": "python",
   "name": "python3"
  },
  "language_info": {
   "codemirror_mode": {
    "name": "ipython",
    "version": 3
   },
   "file_extension": ".py",
   "mimetype": "text/x-python",
   "name": "python",
   "nbconvert_exporter": "python",
   "pygments_lexer": "ipython3",
   "version": "3.8.5"
  }
 },
 "nbformat": 4,
 "nbformat_minor": 4
}
