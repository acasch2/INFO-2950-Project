{
 "cells": [
  {
   "cell_type": "markdown",
   "metadata": {},
   "source": [
    "# Appendix I: Data Cleaning\n",
    "\n",
    "To begin we needed to import the pandas and numpy packages to allow us to perform all of the changes we needed on our data. We also import the matplotlib.pyplot and seaborn packages to help us visualize our data later on."
   ]
  },
  {
   "cell_type": "code",
   "execution_count": 1,
   "metadata": {},
   "outputs": [],
   "source": [
    "import pandas as pd\n",
    "import numpy as np\n",
    "import matplotlib.pyplot as plt\n",
    "import seaborn as sns"
   ]
  },
  {
   "cell_type": "markdown",
   "metadata": {},
   "source": [
    "Our first step in cleaning the data was to import 8 `.csv` files that we downloaded from [fangraphs.com](fangraphs.com). Using FanGraphs, we specified that we wanted team data for the years 2006-2019 and then downloaded `.csv` files of their compilations of various hitting, pitching, and fielding data using their dashboard, standard, and advanced categories. We created dataframes for each of these so that we could clean the data in Python."
   ]
  },
  {
   "cell_type": "code",
   "execution_count": 2,
   "metadata": {},
   "outputs": [],
   "source": [
    "hitting_dashboard = pd.read_csv('hitting_dashboard.csv')\n",
    "hitting_standard = pd.read_csv('hitting_standard.csv')\n",
    "hitting_advanced = pd.read_csv('hitting_advanced.csv')\n",
    "pitching_dashboard = pd.read_csv('pitching_dashboard.csv')\n",
    "pitching_standard = pd.read_csv('pitching_standard.csv')\n",
    "pitching_advanced = pd.read_csv('pitching_advanced.csv')\n",
    "fielding_dashboard = pd.read_csv('fielding_dashboard.csv')\n",
    "fielding_advanced = pd.read_csv('fielding_advanced.csv')"
   ]
  },
  {
   "cell_type": "markdown",
   "metadata": {},
   "source": [
    "Then we selected which columns we wanted to include from the three hitting dataframes we created from the FanGraphs data. They include a lot of statistics in their datasheets, but we are only going to look at some in our analysis. Additionally, there are some redundancies across these dataframes (like `PA`), so we also want to ensure that we eliminate those. We left each of these dataframes with the 'Season' and 'Team' columns so that we could combine them later."
   ]
  },
  {
   "cell_type": "code",
   "execution_count": 3,
   "metadata": {},
   "outputs": [],
   "source": [
    "hitting_dashboard = hitting_dashboard.drop(columns=['G', 'SB', 'BABIP', 'EV', 'BsR', 'Off', 'Def'])\n",
    "hitting_standard = hitting_standard[['Season', 'Team', 'H']]\n",
    "hitting_advanced = hitting_advanced[['Season', 'Team', 'OPS']]"
   ]
  },
  {
   "cell_type": "markdown",
   "metadata": {},
   "source": [
    "Next, we repeated that process with the three pitching dataframes we created from the FanGraphs data. We first selected the columns we wanted to include, since again we are only going to look at some of this data in our analysis. Additionally, there are some redundancies across these dataframes (like `ERA`), so we also wanted to ensure that we eliminated those. We left each of these dataframes with the 'Season' and 'Team' columns so that we can combine them later."
   ]
  },
  {
   "cell_type": "code",
   "execution_count": 4,
   "metadata": {},
   "outputs": [],
   "source": [
    "pitching_dashboard = pitching_dashboard.drop(columns=['G', 'K/9', 'BB/9', 'HR/9', 'BABIP', 'LOB%', 'GB%', 'HR/FB', 'EV','xFIP'])\n",
    "pitching_standard = pitching_standard[['Season', 'Team', 'SV', 'IP', 'H', 'R', 'ER', 'HR', 'BB', 'SO']]\n",
    "pitching_advanced = pitching_advanced[['Season', 'Team', 'K%', 'BB%', 'WHIP']]"
   ]
  },
  {
   "cell_type": "markdown",
   "metadata": {},
   "source": [
    "After that we selected which columns we wanted to include from the two fielding dataframes we created from the FanGraphs data. As before, we are only going to look at some of this data in our analysis. This is especially true for fielding, since a lot of fielding statistics are closely related, and some reflect overall team defense better than others. There are some redundancies across these dataframes, although none of the data we wanted was repeated in this case. Both of the dataframes still included the 'Season' and 'Team' column so that we could combine them later."
   ]
  },
  {
   "cell_type": "code",
   "execution_count": 5,
   "metadata": {},
   "outputs": [],
   "source": [
    "fielding_dashboard = fielding_dashboard[['Season', 'Team', 'FP']]\n",
    "fielding_advanced = fielding_advanced[['Season', 'Team', 'DRS', 'UZR']]"
   ]
  },
  {
   "cell_type": "markdown",
   "metadata": {},
   "source": [
    "FanGraphs data uses different names in the `Team` category for the data they collected for the fielding statistics (this is in our fielding_dashboard and fielding_advanced dataframes). We had to convert these names to be the same as what is used across the other dataframes to distinguish teams, which is a conventional three letter abbreviation. We did this by creating a dictionary with the needed changes for all 30 teams and then passing that through both of the fielding dataframes with the `.replace()` method."
   ]
  },
  {
   "cell_type": "code",
   "execution_count": 6,
   "metadata": {},
   "outputs": [],
   "source": [
    "team_name_dictionary = {'Angels': 'LAA', 'Braves': 'ATL', 'Astros': 'HOU', 'Athletics': 'OAK', \n",
    "                        'Blue Jays': 'TOR', 'Royals': 'KCR', 'Tigers': 'DET', 'Twins': 'MIN',\n",
    "                        'White Sox': 'CHW', 'Yankees': 'NYY', 'Brewers': 'MIL', 'Cardinals': 'STL', \n",
    "                        'Cubs': 'CHC', 'Devil Rays': 'TBR', 'Diamondbacks': 'ARI', 'Dodgers': 'LAD', \n",
    "                        'Giants': 'SFG', 'Indians': 'CLE', 'Mariners': 'SEA', 'Marlins': 'MIA', \n",
    "                        'Mets': 'NYM', 'Nationals': 'WSN', 'Orioles': 'BAL', 'Padres': 'SDP', \n",
    "                        'Phillies': 'PHI', 'Pirates': 'PIT', 'Rangers': 'TEX', 'Red Sox': 'BOS',\n",
    "                        'Reds': 'CIN', 'Rockies': 'COL', 'Rays': 'TBR'}\n",
    "fielding_dashboard = fielding_dashboard.replace(team_name_dictionary, value=None)\n",
    "fielding_advanced = fielding_advanced.replace(team_name_dictionary, value=None)"
   ]
  },
  {
   "cell_type": "markdown",
   "metadata": {},
   "source": [
    "There was also an inconsistency with the way two teams were named because they rebranded during the time frame that we are using. The Miami Marlins (`MIA`) used to be the Florida Marlins (`FLA`) and the Tamba Bay Rays (`TBR`) used to be the Tampa Bay Devil Rays (`TBD`). These are the same franchises so we wanted to call them by the same name in our data. We already fixed this in the fielding dataframes based on how we constructed our dictionary, but we had to resolve these inconsistencies in the remaining dataframes. To do so, we created a new dictionary, and passed it through the rest of the dataframes with the `.replace()` method."
   ]
  },
  {
   "cell_type": "code",
   "execution_count": 7,
   "metadata": {},
   "outputs": [],
   "source": [
    "florida_renames = {'FLA': 'MIA', 'TBD': 'TBR'}\n",
    "hitting_dashboard = hitting_dashboard.replace(florida_renames, value=None)\n",
    "hitting_standard = hitting_standard.replace(florida_renames, value=None)\n",
    "hitting_advanced = hitting_advanced.replace(florida_renames, value=None)\n",
    "pitching_dashboard = pitching_dashboard.replace(florida_renames, value=None)\n",
    "pitching_standard = pitching_standard.replace(florida_renames, value=None)\n",
    "pitching_advanced = pitching_advanced.replace(florida_renames, value=None)"
   ]
  },
  {
   "cell_type": "markdown",
   "metadata": {},
   "source": [
    "In order to combine all of our dataframes, we needed to make sure that all of the data was in the same order so we could concatenate across and include the proper data for each team in their respective row. In order to do this we sorted our data in each dataframe by `Season` (chronologically) and then by `Team` (alphabetically). We then reset the index and dropped the index column to ensure that we didn't have any unnecessary columns and all of our data was in order."
   ]
  },
  {
   "cell_type": "code",
   "execution_count": 8,
   "metadata": {},
   "outputs": [],
   "source": [
    "hitting_dashboard = hitting_dashboard.sort_values(by=['Season', 'Team']).reset_index().drop(columns='index')\n",
    "hitting_standard = hitting_standard.sort_values(by=['Season', 'Team']).reset_index().drop(columns='index')\n",
    "hitting_advanced = hitting_advanced.sort_values(by=['Season', 'Team']).reset_index().drop(columns='index')\n",
    "pitching_dashboard = pitching_dashboard.sort_values(by=['Season', 'Team']).reset_index().drop(columns='index')\n",
    "pitching_standard = pitching_standard.sort_values(by=['Season', 'Team']).reset_index().drop(columns='index')\n",
    "pitching_advanced = pitching_advanced.sort_values(by=['Season', 'Team']).reset_index().drop(columns='index')\n",
    "fielding_dashboard = fielding_dashboard.sort_values(by=['Season', 'Team']).reset_index().drop(columns='index')\n",
    "fielding_advanced = fielding_advanced.sort_values(by=['Season', 'Team']).reset_index().drop(columns='index')"
   ]
  },
  {
   "cell_type": "markdown",
   "metadata": {},
   "source": [
    "With our dataframes were properly sorted, we were able to concatenate the data by category (hitting, pitching, and fielding). We combined everything later, but keeping the hitting, pitching, and fielding dataframes separate at this point allowed us to more easily keep track of certain columns in the subsequent renaming step. In order to combine each category, we used the `pd.concat()` method and specficied to concatenate along `axis = 1` in order to \\\"smoosh\\\" together the columns. Additionally, we previously had columns representing the season and the team in each of the 2 or 3 dataframes for each category to ensure that the observations were ordered the same in each of the dataframes; following the concatenation we had duplicates of that information, so we eliminated those with the `.duplicated()` method."
   ]
  },
  {
   "cell_type": "code",
   "execution_count": 9,
   "metadata": {},
   "outputs": [],
   "source": [
    "hitting = pd.concat([hitting_dashboard, hitting_standard, hitting_advanced], axis=1)\n",
    "hitting = hitting.loc[:,~hitting.columns.duplicated()]\n",
    "\n",
    "pitching = pd.concat([pitching_dashboard, pitching_standard, pitching_advanced], axis=1)\n",
    "pitching = pitching.loc[:,~pitching.columns.duplicated()]\n",
    "\n",
    "fielding = pd.concat([fielding_dashboard, fielding_advanced], axis=1)\n",
    "fielding = fielding.loc[:,~fielding.columns.duplicated()]"
   ]
  },
  {
   "cell_type": "markdown",
   "metadata": {},
   "source": [
    "Once we made the larger hitting, pitching, and fielding dataframes, we renamed our columns to make them easier to work with later on. The first step for all of our new dataframes was to make the column names lowercase which we did with `colname.lower()`. Then we needed to specify name changes for certain columns which had ambiguous titles, could be confused between hitting and pitching stats, or had problematic characters like % and +. In the case of overlapping statistics (like `H`) we clarified `hit_hits` and `pitch_hits` so we would know to whom those columns belonged."
   ]
  },
  {
   "cell_type": "code",
   "execution_count": 10,
   "metadata": {},
   "outputs": [],
   "source": [
    "hitting_lower = [colname.lower() for colname in hitting.columns]\n",
    "hitting.columns = hitting_lower;\n",
    "hitting = hitting.rename(columns = {'hr':'hit_hr', 'r':'runs_scored', 'bb%':'hit_bb_rate', 'k%':'hit_k_rate', 'avg':'bat_avg', 'wrc+':'wrc_plus', 'war':'hit_fwar', 'h':'hit_hits'})\n",
    "\n",
    "pitching_lower = [colname.lower() for colname in pitching.columns]\n",
    "pitching.columns = pitching_lower;\n",
    "pitching = pitching.rename(columns = {'w':'wins', 'l':'losses', 'sv':'saves', 'gs':'games', 'war':'pitch_fwar', 'h':'pitch_hits', 'r':'runs_allowed', 'hr': 'pitch_hr', 'k%':'pitch_k_rate', 'bb%':'pitch_bb_rate', 'bb':'pitch_bb','so':'pitch_so'})\n",
    "\n",
    "fielding_lower = [colname.lower() for colname in fielding.columns]\n",
    "fielding.columns = fielding_lower;"
   ]
  },
  {
   "cell_type": "markdown",
   "metadata": {},
   "source": [
    "Finally, we were ready to concatenate all of the data. We followed a similar process to that in which we concatenated all of the hitting/pitching/fielding data separately, but this time we made one big dataframe with all data we would want to access called `baseball_data`. We followed a similar process to eliminate the duplicated columns (team and season)."
   ]
  },
  {
   "cell_type": "code",
   "execution_count": 11,
   "metadata": {},
   "outputs": [],
   "source": [
    "baseball_data = pd.concat([hitting, pitching, fielding], axis=1)\n",
    "baseball_data = baseball_data.loc[:,~baseball_data.columns.duplicated()]"
   ]
  },
  {
   "cell_type": "markdown",
   "metadata": {},
   "source": [
    "Then we wanted to make sure our data was in a format that we will be able to work with. Some of our data was stored as objects that represented percents, but we want to manipulate those as floats. These columns were all with `rate` in the title (i.e. `pitch_k_rate`). Below, we converted all of these columns to floats. To do this we specified them as strings, eliminated the % sign, converted that value to a float, and divided by 100 (since we want them as a decimal representing a rate)."
   ]
  },
  {
   "cell_type": "code",
   "execution_count": 12,
   "metadata": {},
   "outputs": [],
   "source": [
    "baseball_data.loc[:,'hit_bb_rate'] = baseball_data.loc[:,'hit_bb_rate'].str.rstrip('%').astype('float') / 100.0\n",
    "baseball_data.loc[:,'hit_k_rate'] = baseball_data.loc[:,'hit_k_rate'].str.rstrip('%').astype('float') / 100.0\n",
    "baseball_data.loc[:,'pitch_k_rate'] = baseball_data.loc[:,'pitch_k_rate'].str.rstrip('%').astype('float') / 100.0\n",
    "baseball_data.loc[:,'pitch_bb_rate'] = baseball_data.loc[:,'pitch_bb_rate'].str.rstrip('%').astype('float') / 100.0"
   ]
  },
  {
   "cell_type": "markdown",
   "metadata": {},
   "source": [
    "Although we already have data on wins, a team's success is often determined by win percentage (which is what is used when determining playoff teams). Teams usually play the same number of games (162) but there is a chance for slight variation. In order to include this, we added a column called `win_pct` which we calculated using `wins` and `games`. Similarly, we created a run differential column called `run_diff` using `runs_scored` and `runs_allowed` because this is a quick way to tell whether a team's offense produced more or their pitching/fielding produced less (more runs allowed would mean pitching/fielding produced less) throughout the season. Although we want to stick with specific quality analysis when answering our research questions, this is a good diagnostic statistic to potentially use as a measure of success to correlate with those quality statistics. We also created a variable called `nl` to categorize teams based on which league they are in because we may want to differentiate between leagues in certain analyses (note: Houston is now in the AL, but they were in the NL until 2012). Additionally, we created a stat called `first_half` which is 1 for all teams from 2006-2012. This divides our time period into two halves, which we are considering as a way to find changes over time."
   ]
  },
  {
   "cell_type": "code",
   "execution_count": 13,
   "metadata": {},
   "outputs": [],
   "source": [
    "baseball_data['win_pct'] = baseball_data['wins']/baseball_data['games']\n",
    "baseball_data['run_diff'] = baseball_data['runs_scored'] - baseball_data['runs_allowed']\n",
    "\n",
    "nl = ['NYM','ATL','MIA','PHI','WSN','CHC','MIL','CIN','STL','PIT','LAD','SDP','SFG','ARI','COL']\n",
    "baseball_data['nl'] = baseball_data['team'].apply(lambda x: 1 if x in nl else 0)\n",
    "\n",
    "baseball_data.loc[(baseball_data.team == 'HOU') & (baseball_data.season < 2013), 'nl'] = 1\n",
    "\n",
    "baseball_data['first_half'] = baseball_data['season'].apply(lambda x: 1 if x < 2013 else 0)"
   ]
  },
  {
   "cell_type": "markdown",
   "metadata": {},
   "source": [
    "Our final step exports our cleaned data to a `.csv` file (when uncommented) so that we can access it from one document in later project phases. We display it below and provide a link in our Data Description section."
   ]
  },
  {
   "cell_type": "code",
   "execution_count": 14,
   "metadata": {},
   "outputs": [],
   "source": [
    "baseball_data.to_csv('baseball_data.csv')"
   ]
  },
  {
   "cell_type": "code",
   "execution_count": 15,
   "metadata": {},
   "outputs": [
    {
     "name": "stdout",
     "output_type": "stream",
     "text": [
      "Here is our cleaned data:\n"
     ]
    },
    {
     "data": {
      "text/html": [
       "<div>\n",
       "<style scoped>\n",
       "    .dataframe tbody tr th:only-of-type {\n",
       "        vertical-align: middle;\n",
       "    }\n",
       "\n",
       "    .dataframe tbody tr th {\n",
       "        vertical-align: top;\n",
       "    }\n",
       "\n",
       "    .dataframe thead th {\n",
       "        text-align: right;\n",
       "    }\n",
       "</style>\n",
       "<table border=\"1\" class=\"dataframe\">\n",
       "  <thead>\n",
       "    <tr style=\"text-align: right;\">\n",
       "      <th></th>\n",
       "      <th>season</th>\n",
       "      <th>team</th>\n",
       "      <th>pa</th>\n",
       "      <th>hit_hr</th>\n",
       "      <th>runs_scored</th>\n",
       "      <th>rbi</th>\n",
       "      <th>hit_bb_rate</th>\n",
       "      <th>hit_k_rate</th>\n",
       "      <th>iso</th>\n",
       "      <th>bat_avg</th>\n",
       "      <th>...</th>\n",
       "      <th>pitch_k_rate</th>\n",
       "      <th>pitch_bb_rate</th>\n",
       "      <th>whip</th>\n",
       "      <th>fp</th>\n",
       "      <th>drs</th>\n",
       "      <th>uzr</th>\n",
       "      <th>win_pct</th>\n",
       "      <th>run_diff</th>\n",
       "      <th>nl</th>\n",
       "      <th>first_half</th>\n",
       "    </tr>\n",
       "  </thead>\n",
       "  <tbody>\n",
       "    <tr>\n",
       "      <th>0</th>\n",
       "      <td>2006</td>\n",
       "      <td>ARI</td>\n",
       "      <td>6330</td>\n",
       "      <td>160</td>\n",
       "      <td>773</td>\n",
       "      <td>743</td>\n",
       "      <td>0.080</td>\n",
       "      <td>0.152</td>\n",
       "      <td>0.157</td>\n",
       "      <td>0.267</td>\n",
       "      <td>...</td>\n",
       "      <td>0.176</td>\n",
       "      <td>0.085</td>\n",
       "      <td>1.40</td>\n",
       "      <td>0.983</td>\n",
       "      <td>5</td>\n",
       "      <td>-27.7</td>\n",
       "      <td>0.469136</td>\n",
       "      <td>-15</td>\n",
       "      <td>1</td>\n",
       "      <td>1</td>\n",
       "    </tr>\n",
       "    <tr>\n",
       "      <th>1</th>\n",
       "      <td>2006</td>\n",
       "      <td>ATL</td>\n",
       "      <td>6284</td>\n",
       "      <td>222</td>\n",
       "      <td>849</td>\n",
       "      <td>818</td>\n",
       "      <td>0.084</td>\n",
       "      <td>0.186</td>\n",
       "      <td>0.184</td>\n",
       "      <td>0.270</td>\n",
       "      <td>...</td>\n",
       "      <td>0.165</td>\n",
       "      <td>0.090</td>\n",
       "      <td>1.46</td>\n",
       "      <td>0.984</td>\n",
       "      <td>-13</td>\n",
       "      <td>10.0</td>\n",
       "      <td>0.487654</td>\n",
       "      <td>44</td>\n",
       "      <td>1</td>\n",
       "      <td>1</td>\n",
       "    </tr>\n",
       "    <tr>\n",
       "      <th>2</th>\n",
       "      <td>2006</td>\n",
       "      <td>BAL</td>\n",
       "      <td>6240</td>\n",
       "      <td>164</td>\n",
       "      <td>768</td>\n",
       "      <td>727</td>\n",
       "      <td>0.076</td>\n",
       "      <td>0.141</td>\n",
       "      <td>0.146</td>\n",
       "      <td>0.277</td>\n",
       "      <td>...</td>\n",
       "      <td>0.161</td>\n",
       "      <td>0.097</td>\n",
       "      <td>1.54</td>\n",
       "      <td>0.983</td>\n",
       "      <td>-13</td>\n",
       "      <td>4.8</td>\n",
       "      <td>0.432099</td>\n",
       "      <td>-131</td>\n",
       "      <td>0</td>\n",
       "      <td>1</td>\n",
       "    </tr>\n",
       "    <tr>\n",
       "      <th>3</th>\n",
       "      <td>2006</td>\n",
       "      <td>BOS</td>\n",
       "      <td>6435</td>\n",
       "      <td>192</td>\n",
       "      <td>820</td>\n",
       "      <td>777</td>\n",
       "      <td>0.104</td>\n",
       "      <td>0.164</td>\n",
       "      <td>0.166</td>\n",
       "      <td>0.269</td>\n",
       "      <td>...</td>\n",
       "      <td>0.170</td>\n",
       "      <td>0.081</td>\n",
       "      <td>1.44</td>\n",
       "      <td>0.989</td>\n",
       "      <td>-57</td>\n",
       "      <td>-21.9</td>\n",
       "      <td>0.530864</td>\n",
       "      <td>-5</td>\n",
       "      <td>0</td>\n",
       "      <td>1</td>\n",
       "    </tr>\n",
       "    <tr>\n",
       "      <th>4</th>\n",
       "      <td>2006</td>\n",
       "      <td>CHC</td>\n",
       "      <td>6147</td>\n",
       "      <td>166</td>\n",
       "      <td>716</td>\n",
       "      <td>677</td>\n",
       "      <td>0.064</td>\n",
       "      <td>0.151</td>\n",
       "      <td>0.154</td>\n",
       "      <td>0.268</td>\n",
       "      <td>...</td>\n",
       "      <td>0.196</td>\n",
       "      <td>0.108</td>\n",
       "      <td>1.45</td>\n",
       "      <td>0.982</td>\n",
       "      <td>-16</td>\n",
       "      <td>31.2</td>\n",
       "      <td>0.407407</td>\n",
       "      <td>-118</td>\n",
       "      <td>1</td>\n",
       "      <td>1</td>\n",
       "    </tr>\n",
       "    <tr>\n",
       "      <th>...</th>\n",
       "      <td>...</td>\n",
       "      <td>...</td>\n",
       "      <td>...</td>\n",
       "      <td>...</td>\n",
       "      <td>...</td>\n",
       "      <td>...</td>\n",
       "      <td>...</td>\n",
       "      <td>...</td>\n",
       "      <td>...</td>\n",
       "      <td>...</td>\n",
       "      <td>...</td>\n",
       "      <td>...</td>\n",
       "      <td>...</td>\n",
       "      <td>...</td>\n",
       "      <td>...</td>\n",
       "      <td>...</td>\n",
       "      <td>...</td>\n",
       "      <td>...</td>\n",
       "      <td>...</td>\n",
       "      <td>...</td>\n",
       "      <td>...</td>\n",
       "    </tr>\n",
       "    <tr>\n",
       "      <th>415</th>\n",
       "      <td>2019</td>\n",
       "      <td>STL</td>\n",
       "      <td>6167</td>\n",
       "      <td>210</td>\n",
       "      <td>764</td>\n",
       "      <td>714</td>\n",
       "      <td>0.091</td>\n",
       "      <td>0.230</td>\n",
       "      <td>0.170</td>\n",
       "      <td>0.245</td>\n",
       "      <td>...</td>\n",
       "      <td>0.231</td>\n",
       "      <td>0.090</td>\n",
       "      <td>1.27</td>\n",
       "      <td>0.989</td>\n",
       "      <td>91</td>\n",
       "      <td>32.8</td>\n",
       "      <td>0.561728</td>\n",
       "      <td>102</td>\n",
       "      <td>1</td>\n",
       "      <td>0</td>\n",
       "    </tr>\n",
       "    <tr>\n",
       "      <th>416</th>\n",
       "      <td>2019</td>\n",
       "      <td>TBR</td>\n",
       "      <td>6285</td>\n",
       "      <td>217</td>\n",
       "      <td>769</td>\n",
       "      <td>730</td>\n",
       "      <td>0.086</td>\n",
       "      <td>0.238</td>\n",
       "      <td>0.178</td>\n",
       "      <td>0.254</td>\n",
       "      <td>...</td>\n",
       "      <td>0.266</td>\n",
       "      <td>0.074</td>\n",
       "      <td>1.17</td>\n",
       "      <td>0.985</td>\n",
       "      <td>53</td>\n",
       "      <td>-2.1</td>\n",
       "      <td>0.592593</td>\n",
       "      <td>113</td>\n",
       "      <td>0</td>\n",
       "      <td>0</td>\n",
       "    </tr>\n",
       "    <tr>\n",
       "      <th>417</th>\n",
       "      <td>2019</td>\n",
       "      <td>TEX</td>\n",
       "      <td>6204</td>\n",
       "      <td>223</td>\n",
       "      <td>810</td>\n",
       "      <td>765</td>\n",
       "      <td>0.086</td>\n",
       "      <td>0.254</td>\n",
       "      <td>0.183</td>\n",
       "      <td>0.248</td>\n",
       "      <td>...</td>\n",
       "      <td>0.217</td>\n",
       "      <td>0.092</td>\n",
       "      <td>1.46</td>\n",
       "      <td>0.982</td>\n",
       "      <td>-52</td>\n",
       "      <td>-11.1</td>\n",
       "      <td>0.481481</td>\n",
       "      <td>-68</td>\n",
       "      <td>0</td>\n",
       "      <td>0</td>\n",
       "    </tr>\n",
       "    <tr>\n",
       "      <th>418</th>\n",
       "      <td>2019</td>\n",
       "      <td>TOR</td>\n",
       "      <td>6091</td>\n",
       "      <td>247</td>\n",
       "      <td>726</td>\n",
       "      <td>697</td>\n",
       "      <td>0.084</td>\n",
       "      <td>0.249</td>\n",
       "      <td>0.192</td>\n",
       "      <td>0.236</td>\n",
       "      <td>...</td>\n",
       "      <td>0.211</td>\n",
       "      <td>0.096</td>\n",
       "      <td>1.43</td>\n",
       "      <td>0.984</td>\n",
       "      <td>0</td>\n",
       "      <td>-24.9</td>\n",
       "      <td>0.413580</td>\n",
       "      <td>-102</td>\n",
       "      <td>0</td>\n",
       "      <td>0</td>\n",
       "    </tr>\n",
       "    <tr>\n",
       "      <th>419</th>\n",
       "      <td>2019</td>\n",
       "      <td>WSN</td>\n",
       "      <td>6267</td>\n",
       "      <td>231</td>\n",
       "      <td>873</td>\n",
       "      <td>824</td>\n",
       "      <td>0.093</td>\n",
       "      <td>0.209</td>\n",
       "      <td>0.190</td>\n",
       "      <td>0.265</td>\n",
       "      <td>...</td>\n",
       "      <td>0.246</td>\n",
       "      <td>0.084</td>\n",
       "      <td>1.29</td>\n",
       "      <td>0.985</td>\n",
       "      <td>-3</td>\n",
       "      <td>2.9</td>\n",
       "      <td>0.574074</td>\n",
       "      <td>149</td>\n",
       "      <td>1</td>\n",
       "      <td>0</td>\n",
       "    </tr>\n",
       "  </tbody>\n",
       "</table>\n",
       "<p>420 rows × 41 columns</p>\n",
       "</div>"
      ],
      "text/plain": [
       "     season team    pa  hit_hr  runs_scored  rbi  hit_bb_rate  hit_k_rate  \\\n",
       "0      2006  ARI  6330     160          773  743        0.080       0.152   \n",
       "1      2006  ATL  6284     222          849  818        0.084       0.186   \n",
       "2      2006  BAL  6240     164          768  727        0.076       0.141   \n",
       "3      2006  BOS  6435     192          820  777        0.104       0.164   \n",
       "4      2006  CHC  6147     166          716  677        0.064       0.151   \n",
       "..      ...  ...   ...     ...          ...  ...          ...         ...   \n",
       "415    2019  STL  6167     210          764  714        0.091       0.230   \n",
       "416    2019  TBR  6285     217          769  730        0.086       0.238   \n",
       "417    2019  TEX  6204     223          810  765        0.086       0.254   \n",
       "418    2019  TOR  6091     247          726  697        0.084       0.249   \n",
       "419    2019  WSN  6267     231          873  824        0.093       0.209   \n",
       "\n",
       "       iso  bat_avg  ...  pitch_k_rate  pitch_bb_rate  whip     fp  drs   uzr  \\\n",
       "0    0.157    0.267  ...         0.176          0.085  1.40  0.983    5 -27.7   \n",
       "1    0.184    0.270  ...         0.165          0.090  1.46  0.984  -13  10.0   \n",
       "2    0.146    0.277  ...         0.161          0.097  1.54  0.983  -13   4.8   \n",
       "3    0.166    0.269  ...         0.170          0.081  1.44  0.989  -57 -21.9   \n",
       "4    0.154    0.268  ...         0.196          0.108  1.45  0.982  -16  31.2   \n",
       "..     ...      ...  ...           ...            ...   ...    ...  ...   ...   \n",
       "415  0.170    0.245  ...         0.231          0.090  1.27  0.989   91  32.8   \n",
       "416  0.178    0.254  ...         0.266          0.074  1.17  0.985   53  -2.1   \n",
       "417  0.183    0.248  ...         0.217          0.092  1.46  0.982  -52 -11.1   \n",
       "418  0.192    0.236  ...         0.211          0.096  1.43  0.984    0 -24.9   \n",
       "419  0.190    0.265  ...         0.246          0.084  1.29  0.985   -3   2.9   \n",
       "\n",
       "      win_pct  run_diff  nl  first_half  \n",
       "0    0.469136       -15   1           1  \n",
       "1    0.487654        44   1           1  \n",
       "2    0.432099      -131   0           1  \n",
       "3    0.530864        -5   0           1  \n",
       "4    0.407407      -118   1           1  \n",
       "..        ...       ...  ..         ...  \n",
       "415  0.561728       102   1           0  \n",
       "416  0.592593       113   0           0  \n",
       "417  0.481481       -68   0           0  \n",
       "418  0.413580      -102   0           0  \n",
       "419  0.574074       149   1           0  \n",
       "\n",
       "[420 rows x 41 columns]"
      ]
     },
     "metadata": {},
     "output_type": "display_data"
    }
   ],
   "source": [
    "print('Here is our cleaned data:')\n",
    "display(baseball_data)"
   ]
  }
 ],
 "metadata": {
  "kernelspec": {
   "display_name": "Python 3",
   "language": "python",
   "name": "python3"
  },
  "language_info": {
   "codemirror_mode": {
    "name": "ipython",
    "version": 3
   },
   "file_extension": ".py",
   "mimetype": "text/x-python",
   "name": "python",
   "nbconvert_exporter": "python",
   "pygments_lexer": "ipython3",
   "version": "3.8.5"
  }
 },
 "nbformat": 4,
 "nbformat_minor": 4
}
