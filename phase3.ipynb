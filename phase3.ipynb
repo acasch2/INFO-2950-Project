{
 "cells": [
  {
   "cell_type": "markdown",
   "metadata": {},
   "source": [
    "# Project Phase III: Anna Asch (aca 89) and Anna Clemson (aac64)"
   ]
  },
  {
   "cell_type": "markdown",
   "metadata": {},
   "source": [
    "__Note:__ For all of our analyses, we are planning to normalize any data points that we use so that they can be compared more easily. Additionally we may try to create a standard metric for each aspect that we are looking at (hitting, pitching, and fielding). wRC+ is a standardized metric with a mean of 100 for a given season, so we will probably use this for offense and then make it a standard normal to better work with the rest of the data."
   ]
  },
  {
   "cell_type": "markdown",
   "metadata": {},
   "source": [
    "### First Preregistered Analysis\n",
    "\n"
   ]
  },
  {
   "cell_type": "markdown",
   "metadata": {},
   "source": [
    "### Second Preregistered Analysis\n",
    "\n",
    "*\n",
    "\n",
    "We want to see if the effect of certain statistics on winning percentage changes over time. Specifically, we want to see if offense has become more or less important for winning since 2006 and if pitching has become more or less important for hitting. We know that we've seen HR numbers and other power numbers increase along with strikeouts. We want to see if these changes are related to a change in the game. So are HR more valuable today (from 2019 data) than they were in 2006?One analysis that we are going to run to determine this is to develop a regression model that illustrates the affect of home runs on winning percentage in 2006, and then in 2019. We are going to use hypothesis testing to see if these coefficients from our regression are statistically different. We are hoping to find a way to expand this model so that we can look at changes over time using all of the years in our dataset (2006-2019). This would entail creating a regression for, in this case, winning percentage on HR for each year. Then we would try to figure out if there is a discernable trend in the coefficients. Our theory is that those coefficients are increasing, which is to say HR are becoming more important for winning percentage."
   ]
  },
  {
   "cell_type": "markdown",
   "metadata": {},
   "source": [
    "### Second question\n",
    "\n",
    "home runs (offense index) ~ win pct\n",
    "\n",
    "does the slope change over time? \n",
    "\n",
    "simple linear regression\n",
    "\n",
    "\n",
    "We are planning to normalize any of the number that we use, and potentially create a standard metric for each of the three aspects which we are considering. WRC+ is a normalized metric \n",
    "\n",
    "Is there a way to compare regression coefficients over time?\n",
    "\n",
    "We want to compare a metric which measures the quality of the offense with the winning percentage, and see if the relationship between these changes over time. \n",
    "\n",
    "to see if the effect of the quality of the offense affects the winning percentage\n",
    "\n",
    "If we have a standardized metric for the quality of the offense, which we want to \n",
    "\n",
    "identifying change in the importance of a variable"
   ]
  },
  {
   "cell_type": "markdown",
   "metadata": {},
   "source": [
    "### First question\n",
    "\n",
    "if pitching is x% above average, how much does win pct increase?\n",
    "vs if hitting is x% above average, how much does win pct increase\n",
    "\n",
    "test if coefficients are same\n",
    "\n",
    "if we train/test split the data, we can predict for the future - predict 2021 teams win pct using offense / defense\n",
    "\n",
    "multi linear regression\n",
    "\n",
    "have to standard normalize stats (maybe use WRC+ for offense)"
   ]
  },
  {
   "cell_type": "code",
   "execution_count": null,
   "metadata": {},
   "outputs": [],
   "source": []
  }
 ],
 "metadata": {
  "kernelspec": {
   "display_name": "Python 3",
   "language": "python",
   "name": "python3"
  },
  "language_info": {
   "codemirror_mode": {
    "name": "ipython",
    "version": 3
   },
   "file_extension": ".py",
   "mimetype": "text/x-python",
   "name": "python",
   "nbconvert_exporter": "python",
   "pygments_lexer": "ipython3",
   "version": "3.8.5"
  }
 },
 "nbformat": 4,
 "nbformat_minor": 4
}
