{
 "cells": [
  {
   "cell_type": "markdown",
   "metadata": {},
   "source": [
    "### Second question\n",
    "\n",
    "home runs (offense index) ~ win pct\n",
    "\n",
    "does the slope change over time? \n",
    "\n",
    "simple linear regression\n",
    "\n",
    "\n",
    "We are planning to normalize any of the number that we use, and potentially create a standard metric for each of the three aspects which we are considering. WRC+ is a normalized metric \n",
    "\n",
    "Is there a way to compare regression coefficients over time?\n",
    "\n",
    "We want to compare a metric which measures the quality of the offense with the winning percentage, and see if the relationship between these changes over time. \n",
    "\n",
    "to see if the effect of the quality of the offense affects the winning percentage\n",
    "\n",
    "If we have a standardized metric for the quality of the offense, which we want to \n",
    "\n",
    "identifying change in the importance of a variable"
   ]
  },
  {
   "cell_type": "markdown",
   "metadata": {},
   "source": [
    "### First question\n",
    "\n",
    "if pitching is x% above average, how much does win pct increase?\n",
    "vs if hitting is x% above average, how much does win pct increase\n",
    "\n",
    "test if coefficients are same\n",
    "\n",
    "if we train/test split the data, we can predict for the future - predict 2021 teams win pct using offense / defense\n",
    "\n",
    "multi linear regression\n",
    "\n",
    "have to standard normalize stats (maybe use WRC+ for offense)"
   ]
  },
  {
   "cell_type": "code",
   "execution_count": null,
   "metadata": {},
   "outputs": [],
   "source": []
  }
 ],
 "metadata": {
  "kernelspec": {
   "display_name": "Python 3",
   "language": "python",
   "name": "python3"
  },
  "language_info": {
   "codemirror_mode": {
    "name": "ipython",
    "version": 3
   },
   "file_extension": ".py",
   "mimetype": "text/x-python",
   "name": "python",
   "nbconvert_exporter": "python",
   "pygments_lexer": "ipython3",
   "version": "3.7.4"
  }
 },
 "nbformat": 4,
 "nbformat_minor": 4
}
