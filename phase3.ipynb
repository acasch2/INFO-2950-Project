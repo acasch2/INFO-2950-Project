{
 "cells": [
  {
   "cell_type": "markdown",
   "metadata": {},
   "source": [
    "# Project Phase III: Anna Asch (aca89) and Anna Clemson (aac64)"
   ]
  },
  {
   "cell_type": "markdown",
   "metadata": {},
   "source": [
    "__Note:__ For all of our analyses, we are planning to normalize any data points that we use so that they can be compared more easily. Additionally, we aim to to create a standard metric for each aspect that we are looking at (hitting, pitching, and fielding). Our dataset already has some variables that we feel can serve this purpose (e.g. wRC+ or FIP)."
   ]
  },
  {
   "cell_type": "markdown",
   "metadata": {},
   "source": [
    "### First Preregistered Analysis\n",
    "\n",
    "We are going to run a multiple regression analysis to model how hitting, pitching, and fielding contribute to winning percentage. In this case, our dependent variable will be winning percentage. Our explanatory variables will be metrics that incorporate all information that we deem relevant for pitching, hitting, and fielding, respectively. We will transform each of these variables into standard normals (z scores). \n",
    "\n",
    "For the hitting metric, we will use wRC+, but we will standardize it so its distribution has a mean of 0 and a standard deviation of 1. Next, we will normalize and standardize FIP to use as our pitching metric. Finally, we will use UZR for fielding, again standardized and normalized. Although this statistic is not designed in the same way as wRC+ and FIP, it evaluates a player's overall defensive value based on the runs they save. It captures defensive contributions based on theoretical runs saved compared to the \"average\" fielder.\n",
    "\n",
    "The goal of this analysis is to determine how a linear relationship relates our three categories of interest to winning percentage. This will help us address the question of whether the most successful teams in the post-steroid era were built with elite hitting, pitching, or fielding. Since all of our predictor variables will be standardized, we can compare the effect that each has on winning percentage. We also plan to use this analysis to develop a way to predict future winning percentage based on hitting, pitching, and fielding quality. As such, we plan on splitting our data into a training set and a testing set for this regression, so that we do not overfit the model and so that we can more accurately predict theoretical winning percentages for the 2021 season. "
   ]
  },
  {
   "cell_type": "markdown",
   "metadata": {},
   "source": [
    "### Second Preregistered Analysis\n",
    "\n",
    "We want to see if the effect of particular statistics on winning percentage changes over time. Generally, we are trying to determine if, since 2006, certain offensive contributions have become more or less important for winning, and if certain pitching contributions have become more or less important for winning. We know that home run numbers and other power numbers have increased, along with strikeouts. We hope to determine with this analysis if these trends are changing the type of teams that are successful. Specifically, we will look at the relationship between home runs and winning percentage over time. In order to do this, we are planning on running a multivariable regression in which we divide the time period we are looking at into two halves using a dummy variable. We will then isolate the effect of home runs on winning percentage for the two time periods within the regression by incorporating an interaction variable, multiplying the dummy variable for season by home runs. \n",
    "\n",
    "The goal of this analysis is to determine if the effect of home runs on winning percentage has changed between the first half and the second half of the time period. We will be able to conclude this based on whether or not the coefficient on the interaction is statistically significant. In conjunction with other analyses, this will help us address our second question about how the make-up of the most successful teams has changed, and what that means for team construction.\n",
    "\n",
    "We believe it is fair to assume that each year is independent of the other. Although teams do not completely change every year, each season is a fresh start and performance in previous seasons has no bearing on the outcome of this season. We also have not seen any major rule changes in the last 15 years, so we think that it is reasonable to compare the game across this time period."
   ]
  },
  {
   "cell_type": "markdown",
   "metadata": {},
   "source": [
    "### Questions for Reviewers\n",
    "\n",
    "1. Does our approach with an interaction variable seem valid (given the assumption of independence between years)? It seems that year on its own will not provide any information on how winning percentage is changing, so we thought this made more sense. Do you have any insight into conventions on how this type of variable is used in Python/pandas/scikit-learn?\n",
    "2. Is splitting the years into two halves and comparing things from both halves an appropriate way to assess the changing nature of the game? Should we be trying to approach this kind of problem with a finer-grained split on years (like having a dummy variable for each year in the dataset)? We want to find a balance between analyzing the overall trend of the game and the individual variation between seasons.\n",
    "3. Is there a way to prove independence within the scope of this project aside from just explaining why we feel it is reasonable to treat a variable like year as independent?"
   ]
  },
  {
   "cell_type": "code",
   "execution_count": null,
   "metadata": {},
   "outputs": [],
   "source": []
  }
 ],
 "metadata": {
  "kernelspec": {
   "display_name": "Python 3",
   "language": "python",
   "name": "python3"
  },
  "language_info": {
   "codemirror_mode": {
    "name": "ipython",
    "version": 3
   },
   "file_extension": ".py",
   "mimetype": "text/x-python",
   "name": "python",
   "nbconvert_exporter": "python",
   "pygments_lexer": "ipython3",
   "version": "3.7.4"
  }
 },
 "nbformat": 4,
 "nbformat_minor": 4
}
