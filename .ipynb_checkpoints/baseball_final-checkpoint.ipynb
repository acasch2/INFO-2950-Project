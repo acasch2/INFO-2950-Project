{
 "cells": [
  {
   "cell_type": "markdown",
   "metadata": {},
   "source": [
    "# _Title of project_\n",
    "#### by Anna Asch (aca89) and Anna Clemson (aac64)"
   ]
  },
  {
   "cell_type": "markdown",
   "metadata": {},
   "source": [
    "## Introduction\n",
    "\n",
    "### Background Information\n",
    "\n",
    "There are 30 Major League Baseball (MLB) teams divided into two leagues, the American League (AL) and the National League (NL). Each league has 3 divisions which are geographically determined. A notable difference between the AL and the NL is that the AL has a designated hitter (DH) who hits in place of the pitcher (pitchers tend to be horrible hitters). In an interleague team, whether or not the pitcher hits depends on which team is the home team. Following a 162 game regular season, there is a 10 team playoff consisting of the three division winners and two wild card teams from each league. The goal of each season is to win the World Series, which is the final round of the playoffs. This report is going to focus on the regular season as you have to play well there to make the playoffs. \n",
    "\n",
    "We are looking at the post-steroid era, which includes seasons from 2006-2019. We omitted 2020 because the COVID-19 pandemic resulted in an abridged season and several rule changes. We chose this era because it is closest to the present and although some aspects of the game have changed, the rules have stayed pretty consistent. \n",
    "\n",
    "Baseball has 3 main components: hitting, pitching, and fielding. Each of these has value in its own right, but we want to explore which one is most important to winning. Through 2019, an MLB team's active roster consisted of 25 players usually including five starting pitchers, seven relief pitchers, two catchers, six infielders, and five outfielders ([Baseball Almanac](https://www.baseball-almanac.com/articles/baseball_rosters.shtml#:~:text=Typically%2C%20a%2025%2Dman%20roster,six%20infielders%2C%20and%20five%20outfielders.)). We are using team data aggregated for all players that appeared in a game at any point in the regular season for each team in our data set. From this, we will explore various hitting, pitching, and fielding trends and how they contribute to winning.\n",
    "\n",
    "### Key Terms and Sources\n",
    "\n",
    "The broad terms that we need to differentiate are hitting, pitching, and fielding. Hitting is done by baseball players in the line-up, this may also be called batting. There are nine players in the starting line up who typically come to bat 3-4 times in a game. At it's simplest, a hitter's goal when he comes to bat is to get on base and drive in runs. He ultimately also wants to score runs himself. A home run accomplishes all of these goals with one swing of the bat because it results in the hitter getting on base, driving in a run (himself and any runners on base), and scoring a run himself. Pitchers are trying to prevent the other team from getting on base. In a game, there is typically a starting pitcher followed by a series of one or more relief pitchers. Fielders are backing up their pitcher with defense because often times the best way to prevent a batter from getting on base is to get him to hit into an out (e.g. fly out or ground out). The goal of the fielder is to convert any ball hit to them into an out, or when that is not possible to prevent runners from scoring or advancing to more bases.\n",
    "\n",
    "Some specific terms that are important for our project include a few advanced statistics, which are computed using more familiar statistics and sometimes league averages or constants. The first of these is weighted runs created plus (wRC+), which is used to evaluate hitters. This statistic quantifies run production by attributing value to different outcome for hitters and normalizes it to account for external factors including ballpark and era ([mlb.com](https://www.mlb.com/glossary/advanced-stats/weighted-runs-created-plus)). A wRC+ of 100 is considered league average and 125 would be considered 25% above league average. The formula and more details on wRC+ can be found at [FanGraphs](https://library.fangraphs.com/offense/wrc/). An important terms to understand for pitchers is fielding independent pitching (FIP). This statistic focuses on the outcomes a pitcher has complete control of - strikeouts, unintentional walks, hit-by-pitches, and home runs - in order to isolate a pitcher's run prevention from outside factors like the defense behind him. The formula and more details on wRC+ can be found at [FanGraphs](https://library.fangraphs.com/pitching/fip/). Ultimate zone rating (UZR) assigns value to a players fielding. The goal of this metric is to measure runs saved by a defender, taking into account errors, range, outfield arm, and double play ability. It is very similar to defensive runs saved (DRS) which is also in our dataset. You can find more details at [FanGraphs](https://blogs.fangraphs.com/the-fangraphs-uzr-primer/). We provide a glossary of terms in our data description section and the [FanGraphs glossary](https://blogs.fangraphs.com/glossary/) is a great resource for additional information on any statistics included in our dataset. \n",
    "\n",
    "Our data comes from [FanGraphs](https://www.fangraphs.com/) whose goal is to make baseball statistics and analysis widely available. The site is funded by voluntary memberships so there is no paywall. We filtered data by team and year and then download it as several `.csv` files which we could easily use in our project. FanGraphs gets their data from Sports Info Solutions and MLB and then compiles and maintains it in an easy to use interface. \n",
    "\n",
    "### Research Questions\n",
    "\n",
    "1. In the post-steroid era, were the most successful teams built with elite hitting, pitching, or fielding? Based on data that represents quality, is it more valuable to score runs or prevent runs? Is a run scored really the same as a run prevented? Perhaps to go deeper into this, we can bring in World Series/playoff success because anecdotally people often say that pitching wins in the playoffs, so does that ring true?\n",
    "2. Although all of this data is from the same \"era,\" there is no doubt that the game has changed within this era. Does data support the idea that the make-up of the most successful teams has changed in the last 15 years or so? Offense seems to be trending up in terms of power, but so do strikeouts, so what does this mean for teams trying to build for success? (By make-up we mean, for example, has hitting become more important?)\n",
    "\n",
    "Although there is existing research on these topics, most of it is outdated or analyzes the run totals and other basic statistics like batting average, which are widely regarded as not being great measures of a player's actual quality. We aim to explore if beyond just runs, quality offense, quality pitching, or quality fielding is more valuable for a team's success (e.g. wRC+ for hitting or FIP for pitching).\n",
    "\n",
    "When we ran our exploratory analysis it reinforced what we are trying to research. Looking at the data reinforces our thoughts about the home run and strikeout trends noted in our second question and so it definitely seems like this might be worth digging deeper into to see if there really has been a change. Although we are keeping fielding in the mix for now, the exploratory analysis seems to indicate that it is going to be challenging to draw a strong connection between success and fielding (relative to with hitting and pitching), but we don't want to rule it out until we dig a bit deeper. There is a positive correlation and anecdotally it seems this challenge may be derived from the fact that it is less common to come across truly horrific defenders - pretty much everyone in MLB can make a routine play from their position on a regular basis. One thing that reinforces this is the average fielding percentage is above .980 (this is why we are bringing in DRS and UZR where there is a bit more differentiation).\n",
    "\n",
    "### Summary of Findings"
   ]
  },
  {
   "cell_type": "markdown",
   "metadata": {},
   "source": [
    "## Data Description\n",
    "\n",
    "**What are the observations (rows) and the attributes (columns)?**\n",
    "\n",
    "Each row represents one season for one Major League Baseball team. The seasons range from 2006 to 2019. Each of the 30 MLB teams has data for each of these years, making a total of 420 observations.\n",
    "\n",
    "Each column represents a particular baseball statistic, averaged or summed over all players on a team, depending on the statistic. Here is a chart which describes the meaning of each column in our dataset:\n",
    "\n",
    "| Variable Name | Description |\n",
    "| --- | --- |\n",
    "| season | Year |\n",
    "| team | Name of the team |\n",
    "| pa | Number of plate appearances |\n",
    "| hit_hr | Number of home runs hit |\n",
    "| runs_scored | Number of runs scored |\n",
    "| rbi | Number of runs batted in |\n",
    "| hit_bb_rate | Walk rate for hitters |\n",
    "| hit_k_rate | Strikeout rate for hitters |\n",
    "| iso | Isolated Power: represents batters' raw power based on extrabase hits |\n",
    "| bat_avg | Batting average |\n",
    "| obp | On-base percentage |\n",
    "| slg | Slugging percentage: Average number of bases earned per at bat |\n",
    "| woba | Weighted on-base average: a version of obp that takes into account how a batter got on base (values power power more) |\n",
    "| wrc_plus | Weighted runs created plus: takes runs created (estimated offensive contribution) and adjusts for external factors |\n",
    "| hit_fwar | FanGraphs Wins Above Replacement for hitters: measures a hitter's overall contribution to a team's wins (this includes defense, but excludes pitchers) |\n",
    "| hit_hits | Number of hits (by batters) |\n",
    "| ops | On-base percentage plus slugging |\n",
    "| wins | Team's total wins |\n",
    "| losses | Team's total losses |\n",
    "| saves | Number of saves (pitching) |\n",
    "| games | Number of games played |\n",
    "| ip | Number of innings pitched |\n",
    "| era | Earned run average |\n",
    "| fip | Fielding independent pitching: similar to ERA but uses only the outcomes a pitcher has complete control over (HR, K, BB, HBP)|\n",
    "| pitch_fwar | FanGraphs Wins Above Replacement for pitchers: measures hitter's overall contribution to a team's wins |\n",
    "| pitch_hits | Hits allowed |\n",
    "| runs_allowed | Runs allowed |\n",
    "| er | Number of earned runs allowed |\n",
    "| pitch_hr | Number of home runs allowed |\n",
    "| pitch_bb | Number of walks allowed |\n",
    "| pitch_so | Number of strikeouts by pitchers |\n",
    "| pitch_k_rate | Strikeout rate for pitchers |\n",
    "| pitch_bb_rate | Walk rate for pitchers |\n",
    "| whip | Walks plus hits per innings pitched |\n",
    "| fp | Fielding percentage |\n",
    "| drs | Defensive runs saved |\n",
    "| uzr | Ultimate zone rating: quantifies defensive performance by measuring runs saved, but using a different formula than DRS|\n",
    "| win_pct | Win percentage (reported as a decimal) |\n",
    "| run_diff | Run differential: runs scored - runs allowed |\n",
    "\n",
    "Overall, the columns include information on hitting, pitching, and fielding, in addition to a few measures of overall team performance.\n",
    "\n",
    "Source for some definitions: [MLB website](https://www.mlb.com/glossary/)\n",
    "\n",
    "**Why was this dataset created?**\n",
    "\n",
    "We created this dataset to aggregate various statistics for all Major League Baseball teams from 2006 to 2019. We chose to take data starting in 2006 because it is considered to be the first season in the start of the current \"Post-Steroid Era\" according to Dr. Michael Woltring et al. in [_The Sport Journal_](https://thesportjournal.org/article/examining-perceptions-of-baseballs-eras/). Also, although data exists from the 2020 season, teams played fewer games than usual in 2020 and there were some rule changes specifically related to the COVID-19 pandemic, as detailed in [the MLB's announcement of the 2020 season](https://www.mlb.com/news/mlb-announces-2020-regular-season). For this reason, our dataset ends with the 2019 season. \n",
    "\n",
    "Our dataset contains data not only about one aspect of baseball (i.e., pitching, fielding, or hitting), but combines information about all of these aspects into one dataset. This is useful because the intended use of this dataset is to analyze the relative importance of pitching, fielding, and hitting (three different aspects in which a team can invest) to a team's success. The goal is for this data to help answer our research question about how teams should build for success based on the way the game has been played thus far in the \"Post-Steroid Era.\" That being said, we also may want to use the data to look at any trends within this era to see if perhaps teams are changing how they build for success due to macro trends within the game (for example the growth of the home run and changes to pitcher use which is generating more strikeouts).\n",
    "\n",
    "**Who funded the creation of the dataset?**\n",
    "\n",
    "The raw data which makes up our dataset comes from [fangraphs.com](fangraphs.com), a baseball statistics and analytics website. FanGraphs is funded by individual membership subscriptions, and collects and maintains their data for baseball fans. Their website provides an easy-to-use interface for users to filter data by team, year, and other aspects, after which users can easily compare statistics of interest. FanGraphs obtains their data from various sources. According to their website, \"All major league baseball data including pitch type, velocity, batted ball location, and play-by-play data [is] provided by Sports Info Solutions;\" and \"Major League and Minor League Baseball data [is] provided by Major League Baseball.\" We chose to take our data directly from FanGraphs because they make it very easy to aggregate statistics for teams and select specific years. Sports Info Solutions does not provide an easy interface to find and use data, as their main purpose is collecting the data and then giving it to groups like MLB and FanGraphs. MLB does provide a great deal of information and they maintain a statistics database called [Baseball Savant](https://baseballsavant.mlb.com/), but this site is better for Statcast data (which is more batted ball statistics like exit velocity). We were interested in qualitative data like wRC+, which is calculated and provided by FanGraphs pretty much exclusively ([Baseball Reference](https://www.baseball-reference.com/) uses a stat called OPS+ instead, but we found FanGraphs easier to work with for our purposes).\n",
    "\n",
    "**What processes might have influenced what data was observed and recorded and what was not?**\n",
    "\n",
    "In general, Major League Baseball, Sports Info Solutions, and by proxy FanGraphs are very thorough in their data collection as they include all games for all teams in their data. Due to the nature of the availability of data in baseball in the twenty-first century, the data observed should be complete and unbiased. This means that the information that is missing is largely data we have chosen to omit, we were unable to include, or which are unmeasurable. For example, we did not include any statistics that require technology to gather, like [Statcast](https://www.mlb.com/glossary/statcast) data, which includes measurements such as exit velocity (how fast a ball is hit by a hitter). While this limits the information available in our dataset, that kind of data was not collected across the entire era which we are examining, so our dataset instead focuses on statistics that are collected (or calculated) in the more traditional way. \n",
    "\n",
    "The biggest influence on the data which is unaccounted for is park effects for certain teams. For example, the Colorado Rockies play half their games every season at Coors Field, which is at altitude (almost a mile above sea level). Therefore, they might have more offense and their pitchers might allow more runs because of the location of their field. However, we expect to still be able to detect whether their pitching or hitting played a more important role using statistics from our dataset like run differential or win percentage. Nevertheless, data generated by games played at parks with these extreme effects may still be outliers, and our dataset, for the most part, does not have information to account for this (the one exception is wRC+, which does try to take park effects into account).\n",
    "\n",
    "**What preprocessing was done, and how did the data come to be in the form that you are using?**\n",
    "\n",
    "The preprocessing that was done is described in more detail in our Data Cleaning section. However, here is a summary. We downloaded 8 `.csv` files from [fangraphs.com](fangraphs.com): 3 for hitting, 3 for pitching, and 2 for fielding. Each of these `.csv` files contained 420 observations, one for each Major League Baseball team across the years 2006 - 2019. We dropped overlapping columns and those not needed for our data analysis, and renamed the remaining columns to make them more indicative of their contents and to eliminate ambiguity (e.g., between runs scored and runs allowed). Some of the team naming was inconsistent, so we also renamed some of the observations to restore consistency. We also changed some of the columns to numeric values from strings. Eventually, we combined information from all 8 dataframes together to obtain our final dataset. We also added a couple of summary statistics columns (win percentage and run differential) based on data from the original `.csv` files that we downloaded. You can find details about accessing the raw source data from FanGraphs and our processed dataset below.\n",
    "\n",
    "**If people are involved, were they aware of the data collection and if so, what purpose did they expect the data to be used for?**\n",
    "\n",
    "The data does originate from people. However, the observations in our dataset are aggregated across entire Major League Baseball teams, so no data is specifically tied to a person. Major League Baseball has a lot of data in the public domain, and the baseball players who played in the games that generated this data were aware of the data collection. In general, players know that there is no limitation on what baseball data will be used for. They are aware that it is generally intended for baseball researchers to learn about trends in the game and compare players and teams to each other (like we're doing).\n",
    "\n",
    "**Where can your raw source data be found, if applicable? Provide a link to the raw data (hosted in a Cornell Google Drive or Cornell Box).**\n",
    "\n",
    "Our raw source data can be found in this [Cornell Google Drive folder](https://drive.google.com/drive/folders/1uDGY4ISnM3rEx5NPR95Btq6YsGBkI9nJ?usp=sharing). Our cleaned data is named `baseball_data.csv`, and the raw source data form which we obtained the cleaned data is the 8 other `.csv` files."
   ]
  },
  {
   "cell_type": "markdown",
   "metadata": {},
   "source": [
    "## Preregistrated Analyses\n",
    "\n",
    "1. We are going to run a multiple regression analysis to model how hitting, pitching, and fielding contribute to winning percentage. In this case, our dependent variable will be winning percentage. Our explanatory variables will be metrics that incorporate all information that we deem relevant for pitching, hitting, and fielding, respectively. We will transform each of these variables into standard normals (z scores). For the hitting metric, we will use wRC+, but we will standardize it so its distribution has a mean of 0 and a standard deviation of 1. Next, we will normalize and standardize FIP to use as our pitching metric. Finally, we will use UZR for fielding, again standardized and normalized. Although this statistic is not designed in the same way as wRC+ and FIP, it evaluates a player's overall defensive value based on the runs they save. It captures defensive contributions based on theoretical runs saved compared to the \"average\" fielder. The goal of this analysis is to determine how a linear relationship relates our three categories of interest to winning percentage. This will help us address the question of whether the most successful teams in the post-steroid era were built with elite hitting, pitching, or fielding. Since all of our predictor variables will be standardized, we can compare the effect that each has on winning percentage. We also plan to use this analysis to develop a way to predict future winning percentage based on hitting, pitching, and fielding quality. As such, we plan on splitting our data into a training set and a testing set for this regression, so that we do not overfit the model and so that we can more accurately predict theoretical winning percentages for the 2021 season. \n",
    "\n",
    "2. We want to see if the effect of particular statistics on winning percentage changes over time. Generally, we are trying to determine if, since 2006, certain offensive contributions have become more or less important for winning, and if certain pitching contributions have become more or less important for winning. We know that home run numbers and other power numbers have increased, along with strikeouts. We hope to determine with this analysis if these trends are changing the type of teams that are successful. Specifically, we will look at the relationship between home runs and winning percentage over time. In order to do this, we are planning on running a multivariable regression in which we divide the time period we are looking at into two halves using a dummy variable. We will then isolate the effect of home runs on winning percentage for the two time periods within the regression by incorporating an interaction variable, multiplying the dummy variable for season by home runs. The goal of this analysis is to determine if the effect of home runs on winning percentage has changed between the first half and the second half of the time period. We will be able to conclude this based on whether or not the coefficient on the interaction is statistically significant. In conjunction with other analyses, this will help us address our second question about how the make-up of the most successful teams has changed, and what that means for team construction. We believe it is fair to assume that each year is independent of the other. Although teams do not completely change every year, each season is a fresh start and performance in previous seasons has no bearing on the outcome of this season. We also have not seen any major rule changes in the last 15 years, so we think that it is reasonable to compare the game across this time period.\n",
    "\n",
    "__Note:__ For all of our analyses, we are planning to normalize any data points that we use so that they can be compared more easily. Additionally, we aim to to create a standard metric for each aspect that we are looking at (hitting, pitching, and fielding). Our dataset already has some variables that we feel can serve this purpose (e.g. wRC+ or FIP)."
   ]
  },
  {
   "cell_type": "markdown",
   "metadata": {},
   "source": [
    "## Data Analysis"
   ]
  },
  {
   "cell_type": "markdown",
   "metadata": {},
   "source": [
    "First we import the necessary libraries, such as pandas and numpy, so that we can perform our analyses."
   ]
  },
  {
   "cell_type": "code",
   "execution_count": 13,
   "metadata": {},
   "outputs": [],
   "source": [
    "# Load libraries\n",
    "import pandas as pd\n",
    "import matplotlib.pyplot as plt\n",
    "import seaborn as sns\n",
    "import numpy as np\n",
    "from sklearn.linear_model import LinearRegression\n",
    "from sklearn.linear_model import LogisticRegression\n",
    "from sklearn.model_selection import train_test_split\n",
    "from sklearn.preprocessing import OneHotEncoder\n",
    "from scipy.stats import zscore\n",
    "import statsmodels.formula.api as smf"
   ]
  },
  {
   "cell_type": "code",
   "execution_count": 7,
   "metadata": {},
   "outputs": [],
   "source": [
    "bb = pd.read_csv('baseball_data.csv', index_col=0)"
   ]
  },
  {
   "cell_type": "markdown",
   "metadata": {},
   "source": [
    "Here is an initial illustration through a heatmap of the correlations between each of the variables in our dataset, prior to the further manipulation and regression analyses we will perform later. In the heatmap, red represents a positive correlation, blue represents a negative correlation, and darker colors represent a higher correlation."
   ]
  },
  {
   "cell_type": "code",
   "execution_count": 8,
   "metadata": {},
   "outputs": [
    {
     "data": {
      "image/png": "[encoded data removed]",
      "text/plain": [
       "<Figure size 1440x1080 with 2 Axes>"
      ]
     },
     "metadata": {
      "needs_background": "light"
     },
     "output_type": "display_data"
    }
   ],
   "source": [
    "plt.subplots(figsize=(20,15))\n",
    "sns.heatmap(bb.corr(), center=0, cmap='coolwarm')\n",
    "plt.tight_layout()\n",
    "plt.show()"
   ]
  },
  {
   "cell_type": "markdown",
   "metadata": {},
   "source": [
    "Now we normalize the data that we we will use later. Here, we normalize wRC+, FIP, and UZR using z-scores. We put a negative on the FIP z-scores to be consistent with the idea that a higher z-score represents an observation that is more above average, and for a raw FIP score, a higher value is worse."
   ]
  },
  {
   "cell_type": "code",
   "execution_count": 59,
   "metadata": {},
   "outputs": [],
   "source": [
    "bb['wrc_plus_z'] = zscore(bb['wrc_plus'])\n",
    "bb['fip_z'] = - zscore(bb['fip'])\n",
    "bb['uzr_z'] = zscore(bb['uzr'])"
   ]
  },
  {
   "cell_type": "markdown",
   "metadata": {},
   "source": [
    "### Regressing winning percentage on hitting, pitching, and fielding\n",
    "Now we are going to regress winning percentage on the z-scores for wRC+, FIP, and UZR. The goal of this analysis is to determine how each of these statistics, which represent hitting, pitching, and fielding, respectively, contribute to winning. First, we will perform a simple linear regression for each of these three predictor variables with winning percentage. Then we will create a multiple linear regression model which includes all three predictor variables. We will perform a train-test split for our multiple regression model."
   ]
  },
  {
   "cell_type": "markdown",
   "metadata": {},
   "source": [
    "Our analyses include teams from both the NL and AL. As mentioned in the introduction, the AL has a DH who hits instead of the pitcher, resulting in better quality offense within a given line up. (It is generally agreed upon that pitchers normally hit far below average). We will explore if this difference is relevant in the linear regression by including an interaction term between league and wRC+, and testing for significance with an F test. "
   ]
  },
  {
   "cell_type": "code",
   "execution_count": 53,
   "metadata": {},
   "outputs": [
    {
     "name": "stdout",
     "output_type": "stream",
     "text": [
      "nl\n",
      "0    0.336028\n",
      "1   -0.314348\n",
      "Name: wrc_plus_z, dtype: float64\n"
     ]
    }
   ],
   "source": [
    "print(bb.groupby('nl').wrc_plus_z.mean())"
   ]
  },
  {
   "cell_type": "code",
   "execution_count": 54,
   "metadata": {},
   "outputs": [
    {
     "name": "stdout",
     "output_type": "stream",
     "text": [
      "nl\n",
      "0    0.504179\n",
      "1    0.496027\n",
      "Name: win_pct, dtype: float64\n"
     ]
    }
   ],
   "source": [
    "print(bb.groupby('nl').win_pct.mean())"
   ]
  },
  {
   "cell_type": "markdown",
   "metadata": {},
   "source": [
    "Above we see that AL and NL teams have different average z-scores for wRC+. As discussed, the NL has a lower average wRC+ because their teams have a pitcher in their line up (as long as they are not playing an AL team in an AL ballpark). Therefore, we will attempt to control for league by using interaction variables in our model and testing if the coefficients on these variables are significant. The null hypothesis is that all of the coefficients on the interaction variables are zero, and the alternative hypothesis is that at least one of the coefficients on the interaction variable is nonzero. We set a significance level of 0.05."
   ]
  },
  {
   "cell_type": "code",
   "execution_count": 55,
   "metadata": {},
   "outputs": [],
   "source": [
    "bb['wrc_plus_nlint'] = bb['wrc_plus_z'] * bb['nl']\n",
    "bb['fip_nlint'] = bb['fip_z'] * bb['nl']\n",
    "bb['uzr_nlint'] = bb['uzr_z'] * bb['nl']"
   ]
  },
  {
   "cell_type": "code",
   "execution_count": 56,
   "metadata": {},
   "outputs": [
    {
     "name": "stdout",
     "output_type": "stream",
     "text": [
      "<F test: F=array([[0.08849381]]), p=0.9663417114267574, df_denom=413, df_num=3>\n"
     ]
    }
   ],
   "source": [
    "hpf_ols = smf.ols(formula = 'win_pct ~ wrc_plus_z + fip_z + uzr_z + wrc_plus_nlint + fip_nlint + uzr_nlint', data = bb).fit()\n",
    "hypotheses = '(wrc_plus_nlint = 0), (fip_nlint = 0), (uzr_nlint = 0)'\n",
    "f_test = hpf_ols.f_test(hypotheses)\n",
    "print(f_test)"
   ]
  },
  {
   "cell_type": "markdown",
   "metadata": {},
   "source": [
    "The above p-value is nearly 1, which is much larger than our significance level. This means that we cannot reject the null hypothesis; that is, we cannot conclude that any of the coefficients on the interaction variables are nonzero. As such, we will not include any of the interaction variables in our regressions below. Below we perform the three individual linear regressions"
   ]
  },
  {
   "cell_type": "code",
   "execution_count": 57,
   "metadata": {},
   "outputs": [
    {
     "name": "stdout",
     "output_type": "stream",
     "text": [
      "win_pct | wrc_plus_z: Slope: 0.047, Intercept: 0.500\n",
      "win_pct | fip_z: Slope: 0.038, Intercept: 0.500\n",
      "win_pct | uzr_z: Slope: 0.022, Intercept: 0.500\n"
     ]
    }
   ],
   "source": [
    "h_regression = LinearRegression()\n",
    "h_regression.fit(bb[['wrc_plus_z']], bb['win_pct'])\n",
    "print('win_pct | wrc_plus_z: Slope: {:.3f}, Intercept: {:.3f}'.format(h_regression.coef_[0], h_regression.intercept_))\n",
    "p_regression = LinearRegression()\n",
    "p_regression.fit(bb[['fip_z']], bb['win_pct'])\n",
    "print('win_pct | fip_z: Slope: {:.3f}, Intercept: {:.3f}'.format(p_regression.coef_[0], p_regression.intercept_))\n",
    "f_regression = LinearRegression()\n",
    "f_regression.fit(bb[['uzr_z']], bb['win_pct'])\n",
    "print('win_pct | uzr_z: Slope: {:.3f}, Intercept: {:.3f}'.format(f_regression.coef_[0], f_regression.intercept_))"
   ]
  },
  {
   "cell_type": "code",
   "execution_count": 58,
   "metadata": {},
   "outputs": [
    {
     "name": "stdout",
     "output_type": "stream",
     "text": [
      "Winning Percentage = 0.501 + 0.038 * (wRC+ z-score) + 0.028 * (FIP z-score) + 0.018 * (UZR z-score)\n"
     ]
    }
   ],
   "source": [
    "X_train, X_test, y_train, y_test = train_test_split(bb[['wrc_plus_z', 'fip_z', 'uzr_z']], bb['win_pct'], test_size=0.2)\n",
    "hpf_regression = LinearRegression().fit(X_train, y_train)\n",
    "wrc_plus_coef = hpf_regression.coef_[0]\n",
    "fip_coef = hpf_regression.coef_[1]\n",
    "uzr_coef = hpf_regression.coef_[2]\n",
    "intercept = hpf_regression.intercept_\n",
    "print('Winning Percentage = {:.3f} + {:.3f} * (wRC+ z-score) + {:.3f} * (FIP z-score) + {:.3f} * (UZR z-score)'.format(intercept, wrc_plus_coef, fip_coef, uzr_coef))"
   ]
  },
  {
   "cell_type": "markdown",
   "metadata": {},
   "source": [
    "Although it is hard to visualize the results of the multiple linear regression on a two dimensional graph, we do want to demonstrate how the predicted data points fall relative to the actual data. This scatter plot shows the actual data in blue and the predicted winning percentage based on wRC+, FIP, and UZR in orange (with wRC+ z score on the x-axis)."
   ]
  },
  {
   "cell_type": "code",
   "execution_count": 48,
   "metadata": {},
   "outputs": [
    {
     "data": {
      "image/png": "[encoded data removed]",
      "text/plain": [
       "<Figure size 576x432 with 1 Axes>"
      ]
     },
     "metadata": {
      "needs_background": "light"
     },
     "output_type": "display_data"
    }
   ],
   "source": [
    "plt.figure(figsize=(8,6))\n",
    "plt.scatter(bb.wrc_plus_z, bb.win_pct, alpha=0.7, label = 'Actual')\n",
    "plt.scatter(\n",
    "    bb.wrc_plus_z,\n",
    "    hpf_regression.predict(bb[['wrc_plus_z', 'fip_z', 'uzr_z']]), \n",
    "    c='darkorange',\n",
    "    alpha=0.7,\n",
    "    label = 'Predicted'\n",
    ")\n",
    "plt.tight_layout()\n",
    "plt.xlabel('wRC+ z-score', fontsize=14)\n",
    "plt.ylabel('Winning percentage', fontsize=14)\n",
    "plt.title('Winning percentage by wRC+ z-score', fontsize=18)\n",
    "plt.legend(loc='best', fontsize=14)\n",
    "plt.show()"
   ]
  },
  {
   "cell_type": "code",
   "execution_count": 90,
   "metadata": {},
   "outputs": [
    {
     "name": "stdout",
     "output_type": "stream",
     "text": [
      "0.6741725752175811\n",
      "0.6746600391783781\n"
     ]
    }
   ],
   "source": [
    "print(hpf_regression.score(X_train, y_train))\n",
    "print(hpf_regression.score(X_test, y_test))"
   ]
  },
  {
   "cell_type": "markdown",
   "metadata": {},
   "source": [
    "We also analyzed this data using an OLS model to generate the coefficients and determine significance of these coeffients. As you can see from the output below, all of the coefficients in this model are significant. This implies that wRC+, FIP, and UZR all play a role in determining winning percentage. Additionally, these are very similar coefficients to those generated using our trained model above."
   ]
  },
  {
   "cell_type": "code",
   "execution_count": 66,
   "metadata": {},
   "outputs": [],
   "source": [
    "bb_train = X_train.join(y_train)"
   ]
  },
  {
   "cell_type": "code",
   "execution_count": 68,
   "metadata": {},
   "outputs": [
    {
     "data": {
      "text/html": [
       "<table class=\"simpletable\">\n",
       "<caption>OLS Regression Results</caption>\n",
       "<tr>\n",
       "  <th>Dep. Variable:</th>         <td>win_pct</td>     <th>  R-squared:         </th> <td>   0.663</td>\n",
       "</tr>\n",
       "<tr>\n",
       "  <th>Model:</th>                   <td>OLS</td>       <th>  Adj. R-squared:    </th> <td>   0.660</td>\n",
       "</tr>\n",
       "<tr>\n",
       "  <th>Method:</th>             <td>Least Squares</td>  <th>  F-statistic:       </th> <td>   217.6</td>\n",
       "</tr>\n",
       "<tr>\n",
       "  <th>Date:</th>             <td>Tue, 27 Apr 2021</td> <th>  Prob (F-statistic):</th> <td>4.99e-78</td>\n",
       "</tr>\n",
       "<tr>\n",
       "  <th>Time:</th>                 <td>15:23:26</td>     <th>  Log-Likelihood:    </th> <td>  604.61</td>\n",
       "</tr>\n",
       "<tr>\n",
       "  <th>No. Observations:</th>      <td>   336</td>      <th>  AIC:               </th> <td>  -1201.</td>\n",
       "</tr>\n",
       "<tr>\n",
       "  <th>Df Residuals:</th>          <td>   332</td>      <th>  BIC:               </th> <td>  -1186.</td>\n",
       "</tr>\n",
       "<tr>\n",
       "  <th>Df Model:</th>              <td>     3</td>      <th>                     </th>     <td> </td>   \n",
       "</tr>\n",
       "<tr>\n",
       "  <th>Covariance Type:</th>      <td>nonrobust</td>    <th>                     </th>     <td> </td>   \n",
       "</tr>\n",
       "</table>\n",
       "<table class=\"simpletable\">\n",
       "<tr>\n",
       "       <td></td>         <th>coef</th>     <th>std err</th>      <th>t</th>      <th>P>|t|</th>  <th>[0.025</th>    <th>0.975]</th>  \n",
       "</tr>\n",
       "<tr>\n",
       "  <th>Intercept</th>  <td>    0.5010</td> <td>    0.002</td> <td>  227.829</td> <td> 0.000</td> <td>    0.497</td> <td>    0.505</td>\n",
       "</tr>\n",
       "<tr>\n",
       "  <th>wrc_plus_z</th> <td>    0.0382</td> <td>    0.002</td> <td>   16.500</td> <td> 0.000</td> <td>    0.034</td> <td>    0.043</td>\n",
       "</tr>\n",
       "<tr>\n",
       "  <th>fip_z</th>      <td>    0.0280</td> <td>    0.002</td> <td>   12.413</td> <td> 0.000</td> <td>    0.024</td> <td>    0.032</td>\n",
       "</tr>\n",
       "<tr>\n",
       "  <th>uzr_z</th>      <td>    0.0179</td> <td>    0.002</td> <td>    8.159</td> <td> 0.000</td> <td>    0.014</td> <td>    0.022</td>\n",
       "</tr>\n",
       "</table>\n",
       "<table class=\"simpletable\">\n",
       "<tr>\n",
       "  <th>Omnibus:</th>       <td> 3.467</td> <th>  Durbin-Watson:     </th> <td>   1.947</td>\n",
       "</tr>\n",
       "<tr>\n",
       "  <th>Prob(Omnibus):</th> <td> 0.177</td> <th>  Jarque-Bera (JB):  </th> <td>   3.469</td>\n",
       "</tr>\n",
       "<tr>\n",
       "  <th>Skew:</th>          <td> 0.247</td> <th>  Prob(JB):          </th> <td>   0.176</td>\n",
       "</tr>\n",
       "<tr>\n",
       "  <th>Kurtosis:</th>      <td> 2.937</td> <th>  Cond. No.          </th> <td>    1.29</td>\n",
       "</tr>\n",
       "</table><br/><br/>Warnings:<br/>[1] Standard Errors assume that the covariance matrix of the errors is correctly specified."
      ],
      "text/plain": [
       "<class 'statsmodels.iolib.summary.Summary'>\n",
       "\"\"\"\n",
       "                            OLS Regression Results                            \n",
       "==============================================================================\n",
       "Dep. Variable:                win_pct   R-squared:                       0.663\n",
       "Model:                            OLS   Adj. R-squared:                  0.660\n",
       "Method:                 Least Squares   F-statistic:                     217.6\n",
       "Date:                Tue, 27 Apr 2021   Prob (F-statistic):           4.99e-78\n",
       "Time:                        15:23:26   Log-Likelihood:                 604.61\n",
       "No. Observations:                 336   AIC:                            -1201.\n",
       "Df Residuals:                     332   BIC:                            -1186.\n",
       "Df Model:                           3                                         \n",
       "Covariance Type:            nonrobust                                         \n",
       "==============================================================================\n",
       "                 coef    std err          t      P>|t|      [0.025      0.975]\n",
       "------------------------------------------------------------------------------\n",
       "Intercept      0.5010      0.002    227.829      0.000       0.497       0.505\n",
       "wrc_plus_z     0.0382      0.002     16.500      0.000       0.034       0.043\n",
       "fip_z          0.0280      0.002     12.413      0.000       0.024       0.032\n",
       "uzr_z          0.0179      0.002      8.159      0.000       0.014       0.022\n",
       "==============================================================================\n",
       "Omnibus:                        3.467   Durbin-Watson:                   1.947\n",
       "Prob(Omnibus):                  0.177   Jarque-Bera (JB):                3.469\n",
       "Skew:                           0.247   Prob(JB):                        0.176\n",
       "Kurtosis:                       2.937   Cond. No.                         1.29\n",
       "==============================================================================\n",
       "\n",
       "Warnings:\n",
       "[1] Standard Errors assume that the covariance matrix of the errors is correctly specified.\n",
       "\"\"\""
      ]
     },
     "execution_count": 68,
     "metadata": {},
     "output_type": "execute_result"
    }
   ],
   "source": [
    "hpf_ols = smf.ols(formula = 'win_pct ~ wrc_plus_z + fip_z + uzr_z', data = bb_train).fit()\n",
    "hpf_ols.summary()"
   ]
  },
  {
   "cell_type": "markdown",
   "metadata": {},
   "source": [
    "### Determining trends across time\n",
    "\n",
    "Within this era we have seen home run numbers go up, along with strikeout rates. We want to explore how the effect of the number of home runs a team hits on win percentage has changed over time. First we will show a couple of graphs just to illustrate the changes that we are talking about."
   ]
  },
  {
   "cell_type": "code",
   "execution_count": 113,
   "metadata": {},
   "outputs": [
    {
     "data": {
      "image/png": "[encoded data removed]",
      "text/plain": [
       "<Figure size 432x288 with 1 Axes>"
      ]
     },
     "metadata": {
      "needs_background": "light"
     },
     "output_type": "display_data"
    }
   ],
   "source": [
    "total_hr = bb.groupby('season').hit_hr.sum()\n",
    "hr_line = total_hr.plot.line()\n",
    "plt.xlabel('Season')\n",
    "plt.ylabel('Total HR')\n",
    "plt.title('Change in HR in MLB from 2006-2019')\n",
    "plt.show()"
   ]
  },
  {
   "cell_type": "code",
   "execution_count": 114,
   "metadata": {},
   "outputs": [
    {
     "data": {
      "image/png": "[encoded data removed]",
      "text/plain": [
       "<Figure size 432x288 with 1 Axes>"
      ]
     },
     "metadata": {
      "needs_background": "light"
     },
     "output_type": "display_data"
    }
   ],
   "source": [
    "total_so = bb.groupby('season').pitch_so.sum()\n",
    "so_line = total_so.plot.line()\n",
    "plt.xlabel('Season')\n",
    "plt.ylabel('Total K')\n",
    "plt.title('Change in K in MLB from 2006-2019')\n",
    "plt.show()"
   ]
  },
  {
   "cell_type": "code",
   "execution_count": 116,
   "metadata": {},
   "outputs": [
    {
     "data": {
      "image/png": "[encoded data removed]",
      "text/plain": [
       "<Figure size 432x288 with 1 Axes>"
      ]
     },
     "metadata": {
      "needs_background": "light"
     },
     "output_type": "display_data"
    }
   ],
   "source": [
    "total_runs_scored = bb.groupby('season').runs_scored.sum()\n",
    "runs_scored_line = total_runs_scored.plot.line()\n",
    "plt.xlabel('Season')\n",
    "plt.ylabel('Total Runs Scored')\n",
    "plt.title('Change in Runs Scored in MLB from 2006-2019')\n",
    "plt.show()"
   ]
  },
  {
   "cell_type": "markdown",
   "metadata": {},
   "source": [
    "Just to summarize these plots before going into our analysis, runs hit a minimum in this era in 2014, the same year that home runs hit a minimum. At the same time strikeouts have seen a pretty linear and constant increase since 2006. Interestingly runs scored rebounded in 2014 and by 2019 had almost reached prior levels. Based on the difference in number of home runs in these years, this was almost entirely due to the increase in home runs. This indicates that something changed in the game from 2006-2014 that decreased runs scored drastically. It seems plausible that this may have been the increase in strikeouts. In 2015, home runs went up and so did runs scored, by a very similar amount. It seems that strikeouts may have led to the initial decrease in offense. Since then offense in terms of run production has rebounded in the form of more home runs, but this has been accompanied by a continued increase in strikeouts."
   ]
  },
  {
   "cell_type": "markdown",
   "metadata": {},
   "source": [
    "## Evaluation of Significance"
   ]
  },
  {
   "cell_type": "markdown",
   "metadata": {},
   "source": [
    "## Conclusion"
   ]
  },
  {
   "cell_type": "markdown",
   "metadata": {},
   "source": [
    "Our first analysis addresses the relative effects of hitting, pitching, and fielding on winning percentage. Our result was the following multilinear regression: \n",
    "\n",
    "Winning Percentage = 0.500 + 0.040(wRC+ z score) - 0.029(FIP z score) + 0.017(UZR z score)\n",
    "\n",
    "***STILL NEED TO RUN EVALUATION OF SIGNIFICANCE, maybe F test for equality?*** \n",
    "\n",
    "From this we have determined that it is reasonable to think that these results are statistically significant and we can determine that hitting, as measured by wRC+, has the greatest influence on winning percentage. \n",
    "\n",
    "This result leads us to conclude that when teams are making challenging salary decisions, they should prioritize a strong offense."
   ]
  },
  {
   "cell_type": "code",
   "execution_count": 3,
   "metadata": {},
   "outputs": [],
   "source": [
    "bb2006 = bb[bb.season == 2006]\n",
    "X_train, X_test, y_train, y_test = train_test_split(bb2006[['wrc_plus']], bb2006['win_pct'], test_size=0.2)\n",
    "\n",
    "lr2006 = LinearRegression().fit(bb2006[['wrc_plus']], bb2006['win_pct'])"
   ]
  },
  {
   "cell_type": "code",
   "execution_count": 4,
   "metadata": {},
   "outputs": [
    {
     "data": {
      "text/html": [
       "<div>\n",
       "<style scoped>\n",
       "    .dataframe tbody tr th:only-of-type {\n",
       "        vertical-align: middle;\n",
       "    }\n",
       "\n",
       "    .dataframe tbody tr th {\n",
       "        vertical-align: top;\n",
       "    }\n",
       "\n",
       "    .dataframe thead th {\n",
       "        text-align: right;\n",
       "    }\n",
       "</style>\n",
       "<table border=\"1\" class=\"dataframe\">\n",
       "  <thead>\n",
       "    <tr style=\"text-align: right;\">\n",
       "      <th></th>\n",
       "      <th>team</th>\n",
       "      <th>pa</th>\n",
       "      <th>hit_hr</th>\n",
       "      <th>runs_scored</th>\n",
       "      <th>rbi</th>\n",
       "      <th>hit_bb_rate</th>\n",
       "      <th>hit_k_rate</th>\n",
       "      <th>iso</th>\n",
       "      <th>bat_avg</th>\n",
       "      <th>obp</th>\n",
       "      <th>...</th>\n",
       "      <th>season_2010</th>\n",
       "      <th>season_2011</th>\n",
       "      <th>season_2012</th>\n",
       "      <th>season_2013</th>\n",
       "      <th>season_2014</th>\n",
       "      <th>season_2015</th>\n",
       "      <th>season_2016</th>\n",
       "      <th>season_2017</th>\n",
       "      <th>season_2018</th>\n",
       "      <th>season_2019</th>\n",
       "    </tr>\n",
       "  </thead>\n",
       "  <tbody>\n",
       "    <tr>\n",
       "      <th>0</th>\n",
       "      <td>ARI</td>\n",
       "      <td>6330</td>\n",
       "      <td>160</td>\n",
       "      <td>773</td>\n",
       "      <td>743</td>\n",
       "      <td>0.080</td>\n",
       "      <td>0.152</td>\n",
       "      <td>0.157</td>\n",
       "      <td>0.267</td>\n",
       "      <td>0.331</td>\n",
       "      <td>...</td>\n",
       "      <td>0</td>\n",
       "      <td>0</td>\n",
       "      <td>0</td>\n",
       "      <td>0</td>\n",
       "      <td>0</td>\n",
       "      <td>0</td>\n",
       "      <td>0</td>\n",
       "      <td>0</td>\n",
       "      <td>0</td>\n",
       "      <td>0</td>\n",
       "    </tr>\n",
       "    <tr>\n",
       "      <th>1</th>\n",
       "      <td>ATL</td>\n",
       "      <td>6284</td>\n",
       "      <td>222</td>\n",
       "      <td>849</td>\n",
       "      <td>818</td>\n",
       "      <td>0.084</td>\n",
       "      <td>0.186</td>\n",
       "      <td>0.184</td>\n",
       "      <td>0.270</td>\n",
       "      <td>0.337</td>\n",
       "      <td>...</td>\n",
       "      <td>0</td>\n",
       "      <td>0</td>\n",
       "      <td>0</td>\n",
       "      <td>0</td>\n",
       "      <td>0</td>\n",
       "      <td>0</td>\n",
       "      <td>0</td>\n",
       "      <td>0</td>\n",
       "      <td>0</td>\n",
       "      <td>0</td>\n",
       "    </tr>\n",
       "    <tr>\n",
       "      <th>2</th>\n",
       "      <td>BAL</td>\n",
       "      <td>6240</td>\n",
       "      <td>164</td>\n",
       "      <td>768</td>\n",
       "      <td>727</td>\n",
       "      <td>0.076</td>\n",
       "      <td>0.141</td>\n",
       "      <td>0.146</td>\n",
       "      <td>0.277</td>\n",
       "      <td>0.339</td>\n",
       "      <td>...</td>\n",
       "      <td>0</td>\n",
       "      <td>0</td>\n",
       "      <td>0</td>\n",
       "      <td>0</td>\n",
       "      <td>0</td>\n",
       "      <td>0</td>\n",
       "      <td>0</td>\n",
       "      <td>0</td>\n",
       "      <td>0</td>\n",
       "      <td>0</td>\n",
       "    </tr>\n",
       "    <tr>\n",
       "      <th>3</th>\n",
       "      <td>BOS</td>\n",
       "      <td>6435</td>\n",
       "      <td>192</td>\n",
       "      <td>820</td>\n",
       "      <td>777</td>\n",
       "      <td>0.104</td>\n",
       "      <td>0.164</td>\n",
       "      <td>0.166</td>\n",
       "      <td>0.269</td>\n",
       "      <td>0.351</td>\n",
       "      <td>...</td>\n",
       "      <td>0</td>\n",
       "      <td>0</td>\n",
       "      <td>0</td>\n",
       "      <td>0</td>\n",
       "      <td>0</td>\n",
       "      <td>0</td>\n",
       "      <td>0</td>\n",
       "      <td>0</td>\n",
       "      <td>0</td>\n",
       "      <td>0</td>\n",
       "    </tr>\n",
       "    <tr>\n",
       "      <th>4</th>\n",
       "      <td>CHC</td>\n",
       "      <td>6147</td>\n",
       "      <td>166</td>\n",
       "      <td>716</td>\n",
       "      <td>677</td>\n",
       "      <td>0.064</td>\n",
       "      <td>0.151</td>\n",
       "      <td>0.154</td>\n",
       "      <td>0.268</td>\n",
       "      <td>0.319</td>\n",
       "      <td>...</td>\n",
       "      <td>0</td>\n",
       "      <td>0</td>\n",
       "      <td>0</td>\n",
       "      <td>0</td>\n",
       "      <td>0</td>\n",
       "      <td>0</td>\n",
       "      <td>0</td>\n",
       "      <td>0</td>\n",
       "      <td>0</td>\n",
       "      <td>0</td>\n",
       "    </tr>\n",
       "  </tbody>\n",
       "</table>\n",
       "<p>5 rows × 53 columns</p>\n",
       "</div>"
      ],
      "text/plain": [
       "  team    pa  hit_hr  runs_scored  rbi  hit_bb_rate  hit_k_rate    iso  \\\n",
       "0  ARI  6330     160          773  743        0.080       0.152  0.157   \n",
       "1  ATL  6284     222          849  818        0.084       0.186  0.184   \n",
       "2  BAL  6240     164          768  727        0.076       0.141  0.146   \n",
       "3  BOS  6435     192          820  777        0.104       0.164  0.166   \n",
       "4  CHC  6147     166          716  677        0.064       0.151  0.154   \n",
       "\n",
       "   bat_avg    obp  ...  season_2010  season_2011  season_2012  season_2013  \\\n",
       "0    0.267  0.331  ...            0            0            0            0   \n",
       "1    0.270  0.337  ...            0            0            0            0   \n",
       "2    0.277  0.339  ...            0            0            0            0   \n",
       "3    0.269  0.351  ...            0            0            0            0   \n",
       "4    0.268  0.319  ...            0            0            0            0   \n",
       "\n",
       "   season_2014  season_2015  season_2016  season_2017  season_2018  \\\n",
       "0            0            0            0            0            0   \n",
       "1            0            0            0            0            0   \n",
       "2            0            0            0            0            0   \n",
       "3            0            0            0            0            0   \n",
       "4            0            0            0            0            0   \n",
       "\n",
       "   season_2019  \n",
       "0            0  \n",
       "1            0  \n",
       "2            0  \n",
       "3            0  \n",
       "4            0  \n",
       "\n",
       "[5 rows x 53 columns]"
      ]
     },
     "execution_count": 4,
     "metadata": {},
     "output_type": "execute_result"
    }
   ],
   "source": [
    "bb_ind_var = pd.get_dummies(bb, columns=['season'], drop_first=True)\n",
    "bb_ind_var.head()"
   ]
  },
  {
   "cell_type": "code",
   "execution_count": 5,
   "metadata": {},
   "outputs": [
    {
     "data": {
      "text/html": [
       "<div>\n",
       "<style scoped>\n",
       "    .dataframe tbody tr th:only-of-type {\n",
       "        vertical-align: middle;\n",
       "    }\n",
       "\n",
       "    .dataframe tbody tr th {\n",
       "        vertical-align: top;\n",
       "    }\n",
       "\n",
       "    .dataframe thead th {\n",
       "        text-align: right;\n",
       "    }\n",
       "</style>\n",
       "<table border=\"1\" class=\"dataframe\">\n",
       "  <thead>\n",
       "    <tr style=\"text-align: right;\">\n",
       "      <th></th>\n",
       "      <th>season</th>\n",
       "      <th>team</th>\n",
       "      <th>pa</th>\n",
       "      <th>hit_hr</th>\n",
       "      <th>runs_scored</th>\n",
       "      <th>rbi</th>\n",
       "      <th>hit_bb_rate</th>\n",
       "      <th>hit_k_rate</th>\n",
       "      <th>iso</th>\n",
       "      <th>bat_avg</th>\n",
       "      <th>...</th>\n",
       "      <th>2010</th>\n",
       "      <th>2011</th>\n",
       "      <th>2012</th>\n",
       "      <th>2013</th>\n",
       "      <th>2014</th>\n",
       "      <th>2015</th>\n",
       "      <th>2016</th>\n",
       "      <th>2017</th>\n",
       "      <th>2018</th>\n",
       "      <th>2019</th>\n",
       "    </tr>\n",
       "  </thead>\n",
       "  <tbody>\n",
       "    <tr>\n",
       "      <th>0</th>\n",
       "      <td>2006</td>\n",
       "      <td>ARI</td>\n",
       "      <td>6330</td>\n",
       "      <td>160</td>\n",
       "      <td>773</td>\n",
       "      <td>743</td>\n",
       "      <td>0.080</td>\n",
       "      <td>0.152</td>\n",
       "      <td>0.157</td>\n",
       "      <td>0.267</td>\n",
       "      <td>...</td>\n",
       "      <td>0.0</td>\n",
       "      <td>0.0</td>\n",
       "      <td>0.0</td>\n",
       "      <td>0.0</td>\n",
       "      <td>0.0</td>\n",
       "      <td>0.0</td>\n",
       "      <td>0.0</td>\n",
       "      <td>0.0</td>\n",
       "      <td>0.0</td>\n",
       "      <td>0.0</td>\n",
       "    </tr>\n",
       "    <tr>\n",
       "      <th>1</th>\n",
       "      <td>2006</td>\n",
       "      <td>ATL</td>\n",
       "      <td>6284</td>\n",
       "      <td>222</td>\n",
       "      <td>849</td>\n",
       "      <td>818</td>\n",
       "      <td>0.084</td>\n",
       "      <td>0.186</td>\n",
       "      <td>0.184</td>\n",
       "      <td>0.270</td>\n",
       "      <td>...</td>\n",
       "      <td>0.0</td>\n",
       "      <td>0.0</td>\n",
       "      <td>0.0</td>\n",
       "      <td>0.0</td>\n",
       "      <td>0.0</td>\n",
       "      <td>0.0</td>\n",
       "      <td>0.0</td>\n",
       "      <td>0.0</td>\n",
       "      <td>0.0</td>\n",
       "      <td>0.0</td>\n",
       "    </tr>\n",
       "    <tr>\n",
       "      <th>2</th>\n",
       "      <td>2006</td>\n",
       "      <td>BAL</td>\n",
       "      <td>6240</td>\n",
       "      <td>164</td>\n",
       "      <td>768</td>\n",
       "      <td>727</td>\n",
       "      <td>0.076</td>\n",
       "      <td>0.141</td>\n",
       "      <td>0.146</td>\n",
       "      <td>0.277</td>\n",
       "      <td>...</td>\n",
       "      <td>0.0</td>\n",
       "      <td>0.0</td>\n",
       "      <td>0.0</td>\n",
       "      <td>0.0</td>\n",
       "      <td>0.0</td>\n",
       "      <td>0.0</td>\n",
       "      <td>0.0</td>\n",
       "      <td>0.0</td>\n",
       "      <td>0.0</td>\n",
       "      <td>0.0</td>\n",
       "    </tr>\n",
       "    <tr>\n",
       "      <th>3</th>\n",
       "      <td>2006</td>\n",
       "      <td>BOS</td>\n",
       "      <td>6435</td>\n",
       "      <td>192</td>\n",
       "      <td>820</td>\n",
       "      <td>777</td>\n",
       "      <td>0.104</td>\n",
       "      <td>0.164</td>\n",
       "      <td>0.166</td>\n",
       "      <td>0.269</td>\n",
       "      <td>...</td>\n",
       "      <td>0.0</td>\n",
       "      <td>0.0</td>\n",
       "      <td>0.0</td>\n",
       "      <td>0.0</td>\n",
       "      <td>0.0</td>\n",
       "      <td>0.0</td>\n",
       "      <td>0.0</td>\n",
       "      <td>0.0</td>\n",
       "      <td>0.0</td>\n",
       "      <td>0.0</td>\n",
       "    </tr>\n",
       "    <tr>\n",
       "      <th>4</th>\n",
       "      <td>2006</td>\n",
       "      <td>CHC</td>\n",
       "      <td>6147</td>\n",
       "      <td>166</td>\n",
       "      <td>716</td>\n",
       "      <td>677</td>\n",
       "      <td>0.064</td>\n",
       "      <td>0.151</td>\n",
       "      <td>0.154</td>\n",
       "      <td>0.268</td>\n",
       "      <td>...</td>\n",
       "      <td>0.0</td>\n",
       "      <td>0.0</td>\n",
       "      <td>0.0</td>\n",
       "      <td>0.0</td>\n",
       "      <td>0.0</td>\n",
       "      <td>0.0</td>\n",
       "      <td>0.0</td>\n",
       "      <td>0.0</td>\n",
       "      <td>0.0</td>\n",
       "      <td>0.0</td>\n",
       "    </tr>\n",
       "  </tbody>\n",
       "</table>\n",
       "<p>5 rows × 54 columns</p>\n",
       "</div>"
      ],
      "text/plain": [
       "   season team    pa  hit_hr  runs_scored  rbi  hit_bb_rate  hit_k_rate  \\\n",
       "0    2006  ARI  6330     160          773  743        0.080       0.152   \n",
       "1    2006  ATL  6284     222          849  818        0.084       0.186   \n",
       "2    2006  BAL  6240     164          768  727        0.076       0.141   \n",
       "3    2006  BOS  6435     192          820  777        0.104       0.164   \n",
       "4    2006  CHC  6147     166          716  677        0.064       0.151   \n",
       "\n",
       "     iso  bat_avg  ...  2010  2011  2012  2013  2014  2015  2016  2017  2018  \\\n",
       "0  0.157    0.267  ...   0.0   0.0   0.0   0.0   0.0   0.0   0.0   0.0   0.0   \n",
       "1  0.184    0.270  ...   0.0   0.0   0.0   0.0   0.0   0.0   0.0   0.0   0.0   \n",
       "2  0.146    0.277  ...   0.0   0.0   0.0   0.0   0.0   0.0   0.0   0.0   0.0   \n",
       "3  0.166    0.269  ...   0.0   0.0   0.0   0.0   0.0   0.0   0.0   0.0   0.0   \n",
       "4  0.154    0.268  ...   0.0   0.0   0.0   0.0   0.0   0.0   0.0   0.0   0.0   \n",
       "\n",
       "   2019  \n",
       "0   0.0  \n",
       "1   0.0  \n",
       "2   0.0  \n",
       "3   0.0  \n",
       "4   0.0  \n",
       "\n",
       "[5 rows x 54 columns]"
      ]
     },
     "execution_count": 5,
     "metadata": {},
     "output_type": "execute_result"
    }
   ],
   "source": [
    "ohe = OneHotEncoder(drop='first', categories='auto', sparse=False)\n",
    "oh_data = ohe.fit_transform(bb[['season']])\n",
    "\n",
    "# get column names and convert encoded data to df\n",
    "column_names = []\n",
    "for i, category in enumerate(ohe.categories_):\n",
    "    for colname in category[1:]:\n",
    "        column_names.append(str(colname))\n",
    "\n",
    "bb_ohe = pd.DataFrame(oh_data, columns=column_names)\n",
    "bb_ohe = pd.concat([bb.reset_index(drop=True), bb_ohe], axis='columns')\n",
    "\n",
    "bb_ohe.head()"
   ]
  },
  {
   "cell_type": "markdown",
   "metadata": {},
   "source": [
    "4/14 experimenting"
   ]
  },
  {
   "cell_type": "code",
   "execution_count": 6,
   "metadata": {},
   "outputs": [],
   "source": [
    "wrc_plus_mean = bb_ohe['wrc_plus'].mean()\n",
    "wrc_plus_std = bb_ohe['wrc_plus'].std()\n",
    "bb_ohe['wrc_plus'] = (bb_ohe['wrc_plus'] - wrc_plus_mean) / wrc_plus_std\n",
    "\n",
    "bb_ohe['win_pct'] = bb['win_pct'] * 100"
   ]
  },
  {
   "cell_type": "code",
   "execution_count": 7,
   "metadata": {},
   "outputs": [
    {
     "name": "stdout",
     "output_type": "stream",
     "text": [
      "['2007', '2008', '2009', '2010', '2011', '2012', '2013', '2014', '2015', '2016', '2017', '2018', '2019']\n",
      "0.4448320204466425\n",
      "[-1.52268272e-01 -7.85529662e-02 -3.05156821e-03  5.66946539e-02\n",
      " -9.36816768e-02  1.90686207e-02 -7.75211410e-02 -3.73704291e-02\n",
      " -1.51015341e-01 -2.64250733e-01 -1.31435512e-01 -2.33604657e-01\n",
      " -2.87307331e-01  4.71869281e+00]\n"
     ]
    }
   ],
   "source": [
    "reg_cols = column_names\n",
    "print(reg_cols)\n",
    "reg_cols.append('wrc_plus')\n",
    "lr = LinearRegression().fit(bb_ohe[reg_cols], bb_ohe['win_pct'])\n",
    "\n",
    "print(lr.score(bb_ohe[reg_cols], bb_ohe['win_pct']))\n",
    "print(lr.coef_)"
   ]
  },
  {
   "cell_type": "code",
   "execution_count": 8,
   "metadata": {},
   "outputs": [
    {
     "name": "stdout",
     "output_type": "stream",
     "text": [
      "0.46240723017678576\n",
      "[-0.14134897 -0.08915586 -0.02605364  0.05420409 -0.10088907  0.02494252\n",
      " -0.08278304 -0.0584842  -0.15553661 -0.27304217 -0.13294347 -0.28476911\n",
      " -0.34279013  5.03351785 -1.93693166 -1.08898504 -1.09150707 -0.18938144\n",
      " -0.81773379  0.18430214 -0.0470494  -1.42012321 -0.51010619 -0.24469551\n",
      " -1.06490298  1.34864696  0.94642618]\n"
     ]
    },
    {
     "data": {
      "text/html": [
       "<div>\n",
       "<style scoped>\n",
       "    .dataframe tbody tr th:only-of-type {\n",
       "        vertical-align: middle;\n",
       "    }\n",
       "\n",
       "    .dataframe tbody tr th {\n",
       "        vertical-align: top;\n",
       "    }\n",
       "\n",
       "    .dataframe thead th {\n",
       "        text-align: right;\n",
       "    }\n",
       "</style>\n",
       "<table border=\"1\" class=\"dataframe\">\n",
       "  <thead>\n",
       "    <tr style=\"text-align: right;\">\n",
       "      <th></th>\n",
       "      <th>season</th>\n",
       "      <th>team</th>\n",
       "      <th>pa</th>\n",
       "      <th>hit_hr</th>\n",
       "      <th>runs_scored</th>\n",
       "      <th>rbi</th>\n",
       "      <th>hit_bb_rate</th>\n",
       "      <th>hit_k_rate</th>\n",
       "      <th>iso</th>\n",
       "      <th>bat_avg</th>\n",
       "      <th>...</th>\n",
       "      <th>2010_interact</th>\n",
       "      <th>2011_interact</th>\n",
       "      <th>2012_interact</th>\n",
       "      <th>2013_interact</th>\n",
       "      <th>2014_interact</th>\n",
       "      <th>2015_interact</th>\n",
       "      <th>2016_interact</th>\n",
       "      <th>2017_interact</th>\n",
       "      <th>2018_interact</th>\n",
       "      <th>2019_interact</th>\n",
       "    </tr>\n",
       "  </thead>\n",
       "  <tbody>\n",
       "    <tr>\n",
       "      <th>0</th>\n",
       "      <td>2006</td>\n",
       "      <td>ARI</td>\n",
       "      <td>6330</td>\n",
       "      <td>160</td>\n",
       "      <td>773</td>\n",
       "      <td>743</td>\n",
       "      <td>0.080</td>\n",
       "      <td>0.152</td>\n",
       "      <td>0.157</td>\n",
       "      <td>0.267</td>\n",
       "      <td>...</td>\n",
       "      <td>-0.0</td>\n",
       "      <td>-0.0</td>\n",
       "      <td>-0.0</td>\n",
       "      <td>-0.0</td>\n",
       "      <td>-0.0</td>\n",
       "      <td>-0.0</td>\n",
       "      <td>-0.0</td>\n",
       "      <td>-0.0</td>\n",
       "      <td>-0.0</td>\n",
       "      <td>-0.0</td>\n",
       "    </tr>\n",
       "    <tr>\n",
       "      <th>1</th>\n",
       "      <td>2006</td>\n",
       "      <td>ATL</td>\n",
       "      <td>6284</td>\n",
       "      <td>222</td>\n",
       "      <td>849</td>\n",
       "      <td>818</td>\n",
       "      <td>0.084</td>\n",
       "      <td>0.186</td>\n",
       "      <td>0.184</td>\n",
       "      <td>0.270</td>\n",
       "      <td>...</td>\n",
       "      <td>0.0</td>\n",
       "      <td>0.0</td>\n",
       "      <td>0.0</td>\n",
       "      <td>0.0</td>\n",
       "      <td>0.0</td>\n",
       "      <td>0.0</td>\n",
       "      <td>0.0</td>\n",
       "      <td>0.0</td>\n",
       "      <td>0.0</td>\n",
       "      <td>0.0</td>\n",
       "    </tr>\n",
       "    <tr>\n",
       "      <th>2</th>\n",
       "      <td>2006</td>\n",
       "      <td>BAL</td>\n",
       "      <td>6240</td>\n",
       "      <td>164</td>\n",
       "      <td>768</td>\n",
       "      <td>727</td>\n",
       "      <td>0.076</td>\n",
       "      <td>0.141</td>\n",
       "      <td>0.146</td>\n",
       "      <td>0.277</td>\n",
       "      <td>...</td>\n",
       "      <td>-0.0</td>\n",
       "      <td>-0.0</td>\n",
       "      <td>-0.0</td>\n",
       "      <td>-0.0</td>\n",
       "      <td>-0.0</td>\n",
       "      <td>-0.0</td>\n",
       "      <td>-0.0</td>\n",
       "      <td>-0.0</td>\n",
       "      <td>-0.0</td>\n",
       "      <td>-0.0</td>\n",
       "    </tr>\n",
       "    <tr>\n",
       "      <th>3</th>\n",
       "      <td>2006</td>\n",
       "      <td>BOS</td>\n",
       "      <td>6435</td>\n",
       "      <td>192</td>\n",
       "      <td>820</td>\n",
       "      <td>777</td>\n",
       "      <td>0.104</td>\n",
       "      <td>0.164</td>\n",
       "      <td>0.166</td>\n",
       "      <td>0.269</td>\n",
       "      <td>...</td>\n",
       "      <td>0.0</td>\n",
       "      <td>0.0</td>\n",
       "      <td>0.0</td>\n",
       "      <td>0.0</td>\n",
       "      <td>0.0</td>\n",
       "      <td>0.0</td>\n",
       "      <td>0.0</td>\n",
       "      <td>0.0</td>\n",
       "      <td>0.0</td>\n",
       "      <td>0.0</td>\n",
       "    </tr>\n",
       "    <tr>\n",
       "      <th>4</th>\n",
       "      <td>2006</td>\n",
       "      <td>CHC</td>\n",
       "      <td>6147</td>\n",
       "      <td>166</td>\n",
       "      <td>716</td>\n",
       "      <td>677</td>\n",
       "      <td>0.064</td>\n",
       "      <td>0.151</td>\n",
       "      <td>0.154</td>\n",
       "      <td>0.268</td>\n",
       "      <td>...</td>\n",
       "      <td>-0.0</td>\n",
       "      <td>-0.0</td>\n",
       "      <td>-0.0</td>\n",
       "      <td>-0.0</td>\n",
       "      <td>-0.0</td>\n",
       "      <td>-0.0</td>\n",
       "      <td>-0.0</td>\n",
       "      <td>-0.0</td>\n",
       "      <td>-0.0</td>\n",
       "      <td>-0.0</td>\n",
       "    </tr>\n",
       "  </tbody>\n",
       "</table>\n",
       "<p>5 rows × 67 columns</p>\n",
       "</div>"
      ],
      "text/plain": [
       "   season team    pa  hit_hr  runs_scored  rbi  hit_bb_rate  hit_k_rate  \\\n",
       "0    2006  ARI  6330     160          773  743        0.080       0.152   \n",
       "1    2006  ATL  6284     222          849  818        0.084       0.186   \n",
       "2    2006  BAL  6240     164          768  727        0.076       0.141   \n",
       "3    2006  BOS  6435     192          820  777        0.104       0.164   \n",
       "4    2006  CHC  6147     166          716  677        0.064       0.151   \n",
       "\n",
       "     iso  bat_avg  ...  2010_interact  2011_interact  2012_interact  \\\n",
       "0  0.157    0.267  ...           -0.0           -0.0           -0.0   \n",
       "1  0.184    0.270  ...            0.0            0.0            0.0   \n",
       "2  0.146    0.277  ...           -0.0           -0.0           -0.0   \n",
       "3  0.166    0.269  ...            0.0            0.0            0.0   \n",
       "4  0.154    0.268  ...           -0.0           -0.0           -0.0   \n",
       "\n",
       "   2013_interact  2014_interact  2015_interact  2016_interact  2017_interact  \\\n",
       "0           -0.0           -0.0           -0.0           -0.0           -0.0   \n",
       "1            0.0            0.0            0.0            0.0            0.0   \n",
       "2           -0.0           -0.0           -0.0           -0.0           -0.0   \n",
       "3            0.0            0.0            0.0            0.0            0.0   \n",
       "4           -0.0           -0.0           -0.0           -0.0           -0.0   \n",
       "\n",
       "   2018_interact  2019_interact  \n",
       "0           -0.0           -0.0  \n",
       "1            0.0            0.0  \n",
       "2           -0.0           -0.0  \n",
       "3            0.0            0.0  \n",
       "4           -0.0           -0.0  \n",
       "\n",
       "[5 rows x 67 columns]"
      ]
     },
     "execution_count": 8,
     "metadata": {},
     "output_type": "execute_result"
    }
   ],
   "source": [
    "for i in range(2007,2020):\n",
    "    reg_cols.append(str(i) + \"_interact\")\n",
    "    bb_ohe[str(i) + \"_interact\"] = bb_ohe[str(i)] * bb_ohe['wrc_plus']\n",
    "\n",
    "lr = LinearRegression().fit(bb_ohe[reg_cols], bb_ohe['win_pct'])\n",
    "\n",
    "print(lr.score(bb_ohe[reg_cols], bb_ohe['win_pct']))\n",
    "print(lr.coef_)\n",
    "    \n",
    "bb_ohe.head()"
   ]
  },
  {
   "cell_type": "code",
   "execution_count": 9,
   "metadata": {},
   "outputs": [],
   "source": [
    "bb_norm = bb.copy()\n",
    "bb_norm['wrc_plus_norm'] = (bb['wrc_plus'] - bb['wrc_plus'].mean()) / bb['wrc_plus'].std()\n",
    "bb_norm['fip_norm'] = (bb['fip'] - bb['fip'].mean()) / bb['fip'].std()\n",
    "bb_norm['uzr_norm'] = (bb['uzr'] - bb['uzr'].mean()) / bb['uzr'].std()\n",
    "bb_norm['win_pct'] = bb['win_pct'] * 100"
   ]
  },
  {
   "cell_type": "code",
   "execution_count": 10,
   "metadata": {},
   "outputs": [],
   "source": [
    "X_train, X_test, y_train, y_test = train_test_split(bb_norm[['wrc_plus_norm', 'fip_norm', 'uzr_norm']], bb_norm['win_pct'], test_size=0.2)\n",
    "lr1 = LinearRegression().fit(X_train, y_train)"
   ]
  },
  {
   "cell_type": "code",
   "execution_count": 11,
   "metadata": {},
   "outputs": [
    {
     "name": "stdout",
     "output_type": "stream",
     "text": [
      "0.68739446689806\n",
      "0.6137529737504325\n"
     ]
    },
    {
     "data": {
      "text/plain": [
       "array([ 4.1552321 , -2.90373506,  1.6704058 ])"
      ]
     },
     "execution_count": 11,
     "metadata": {},
     "output_type": "execute_result"
    }
   ],
   "source": [
    "print(lr1.score(X_train, y_train))\n",
    "print(lr1.score(X_test, y_test))\n",
    "lr1.coef_"
   ]
  },
  {
   "cell_type": "markdown",
   "metadata": {},
   "source": [
    "analysis 2"
   ]
  },
  {
   "cell_type": "code",
   "execution_count": 12,
   "metadata": {},
   "outputs": [
    {
     "data": {
      "text/html": [
       "<div>\n",
       "<style scoped>\n",
       "    .dataframe tbody tr th:only-of-type {\n",
       "        vertical-align: middle;\n",
       "    }\n",
       "\n",
       "    .dataframe tbody tr th {\n",
       "        vertical-align: top;\n",
       "    }\n",
       "\n",
       "    .dataframe thead th {\n",
       "        text-align: right;\n",
       "    }\n",
       "</style>\n",
       "<table border=\"1\" class=\"dataframe\">\n",
       "  <thead>\n",
       "    <tr style=\"text-align: right;\">\n",
       "      <th></th>\n",
       "      <th>season</th>\n",
       "      <th>team</th>\n",
       "      <th>pa</th>\n",
       "      <th>hit_hr</th>\n",
       "      <th>runs_scored</th>\n",
       "      <th>rbi</th>\n",
       "      <th>hit_bb_rate</th>\n",
       "      <th>hit_k_rate</th>\n",
       "      <th>iso</th>\n",
       "      <th>bat_avg</th>\n",
       "      <th>...</th>\n",
       "      <th>whip</th>\n",
       "      <th>fp</th>\n",
       "      <th>drs</th>\n",
       "      <th>uzr</th>\n",
       "      <th>win_pct</th>\n",
       "      <th>run_diff</th>\n",
       "      <th>nl</th>\n",
       "      <th>first_half</th>\n",
       "      <th>hit_hr_interact</th>\n",
       "      <th>hit_hr_norm</th>\n",
       "    </tr>\n",
       "  </thead>\n",
       "  <tbody>\n",
       "    <tr>\n",
       "      <th>0</th>\n",
       "      <td>2006</td>\n",
       "      <td>ARI</td>\n",
       "      <td>6330</td>\n",
       "      <td>160</td>\n",
       "      <td>773</td>\n",
       "      <td>743</td>\n",
       "      <td>0.080</td>\n",
       "      <td>0.152</td>\n",
       "      <td>0.157</td>\n",
       "      <td>0.267</td>\n",
       "      <td>...</td>\n",
       "      <td>1.40</td>\n",
       "      <td>0.983</td>\n",
       "      <td>5</td>\n",
       "      <td>-27.7</td>\n",
       "      <td>46.913580</td>\n",
       "      <td>-15</td>\n",
       "      <td>1</td>\n",
       "      <td>1</td>\n",
       "      <td>160</td>\n",
       "      <td>-0.310599</td>\n",
       "    </tr>\n",
       "    <tr>\n",
       "      <th>1</th>\n",
       "      <td>2006</td>\n",
       "      <td>ATL</td>\n",
       "      <td>6284</td>\n",
       "      <td>222</td>\n",
       "      <td>849</td>\n",
       "      <td>818</td>\n",
       "      <td>0.084</td>\n",
       "      <td>0.186</td>\n",
       "      <td>0.184</td>\n",
       "      <td>0.270</td>\n",
       "      <td>...</td>\n",
       "      <td>1.46</td>\n",
       "      <td>0.984</td>\n",
       "      <td>-13</td>\n",
       "      <td>10.0</td>\n",
       "      <td>48.765432</td>\n",
       "      <td>44</td>\n",
       "      <td>1</td>\n",
       "      <td>1</td>\n",
       "      <td>222</td>\n",
       "      <td>1.308945</td>\n",
       "    </tr>\n",
       "    <tr>\n",
       "      <th>2</th>\n",
       "      <td>2006</td>\n",
       "      <td>BAL</td>\n",
       "      <td>6240</td>\n",
       "      <td>164</td>\n",
       "      <td>768</td>\n",
       "      <td>727</td>\n",
       "      <td>0.076</td>\n",
       "      <td>0.141</td>\n",
       "      <td>0.146</td>\n",
       "      <td>0.277</td>\n",
       "      <td>...</td>\n",
       "      <td>1.54</td>\n",
       "      <td>0.983</td>\n",
       "      <td>-13</td>\n",
       "      <td>4.8</td>\n",
       "      <td>43.209877</td>\n",
       "      <td>-131</td>\n",
       "      <td>0</td>\n",
       "      <td>1</td>\n",
       "      <td>164</td>\n",
       "      <td>-0.206113</td>\n",
       "    </tr>\n",
       "    <tr>\n",
       "      <th>3</th>\n",
       "      <td>2006</td>\n",
       "      <td>BOS</td>\n",
       "      <td>6435</td>\n",
       "      <td>192</td>\n",
       "      <td>820</td>\n",
       "      <td>777</td>\n",
       "      <td>0.104</td>\n",
       "      <td>0.164</td>\n",
       "      <td>0.166</td>\n",
       "      <td>0.269</td>\n",
       "      <td>...</td>\n",
       "      <td>1.44</td>\n",
       "      <td>0.989</td>\n",
       "      <td>-57</td>\n",
       "      <td>-21.9</td>\n",
       "      <td>53.086420</td>\n",
       "      <td>-5</td>\n",
       "      <td>0</td>\n",
       "      <td>1</td>\n",
       "      <td>192</td>\n",
       "      <td>0.525295</td>\n",
       "    </tr>\n",
       "    <tr>\n",
       "      <th>4</th>\n",
       "      <td>2006</td>\n",
       "      <td>CHC</td>\n",
       "      <td>6147</td>\n",
       "      <td>166</td>\n",
       "      <td>716</td>\n",
       "      <td>677</td>\n",
       "      <td>0.064</td>\n",
       "      <td>0.151</td>\n",
       "      <td>0.154</td>\n",
       "      <td>0.268</td>\n",
       "      <td>...</td>\n",
       "      <td>1.45</td>\n",
       "      <td>0.982</td>\n",
       "      <td>-16</td>\n",
       "      <td>31.2</td>\n",
       "      <td>40.740741</td>\n",
       "      <td>-118</td>\n",
       "      <td>1</td>\n",
       "      <td>1</td>\n",
       "      <td>166</td>\n",
       "      <td>-0.153869</td>\n",
       "    </tr>\n",
       "  </tbody>\n",
       "</table>\n",
       "<p>5 rows × 43 columns</p>\n",
       "</div>"
      ],
      "text/plain": [
       "   season team    pa  hit_hr  runs_scored  rbi  hit_bb_rate  hit_k_rate  \\\n",
       "0    2006  ARI  6330     160          773  743        0.080       0.152   \n",
       "1    2006  ATL  6284     222          849  818        0.084       0.186   \n",
       "2    2006  BAL  6240     164          768  727        0.076       0.141   \n",
       "3    2006  BOS  6435     192          820  777        0.104       0.164   \n",
       "4    2006  CHC  6147     166          716  677        0.064       0.151   \n",
       "\n",
       "     iso  bat_avg  ...  whip     fp  drs   uzr    win_pct  run_diff  nl  \\\n",
       "0  0.157    0.267  ...  1.40  0.983    5 -27.7  46.913580       -15   1   \n",
       "1  0.184    0.270  ...  1.46  0.984  -13  10.0  48.765432        44   1   \n",
       "2  0.146    0.277  ...  1.54  0.983  -13   4.8  43.209877      -131   0   \n",
       "3  0.166    0.269  ...  1.44  0.989  -57 -21.9  53.086420        -5   0   \n",
       "4  0.154    0.268  ...  1.45  0.982  -16  31.2  40.740741      -118   1   \n",
       "\n",
       "   first_half  hit_hr_interact  hit_hr_norm  \n",
       "0           1              160    -0.310599  \n",
       "1           1              222     1.308945  \n",
       "2           1              164    -0.206113  \n",
       "3           1              192     0.525295  \n",
       "4           1              166    -0.153869  \n",
       "\n",
       "[5 rows x 43 columns]"
      ]
     },
     "execution_count": 12,
     "metadata": {},
     "output_type": "execute_result"
    }
   ],
   "source": [
    "bb_hr = bb.copy()\n",
    "bb_hr['hit_hr_interact'] = bb_hr['first_half'] * bb_hr['hit_hr']\n",
    "bb_hr['win_pct'] = bb['win_pct'] * 100\n",
    "bb_hr['hit_hr_norm'] = (bb['hit_hr'] - bb['hit_hr'].mean()) / bb['hit_hr'].std()\n",
    "bb_hr.head()"
   ]
  },
  {
   "cell_type": "code",
   "execution_count": 13,
   "metadata": {},
   "outputs": [
    {
     "data": {
      "text/plain": [
       "array([ 2.41965821, -2.99893396,  0.02473459])"
      ]
     },
     "execution_count": 13,
     "metadata": {},
     "output_type": "execute_result"
    }
   ],
   "source": [
    "lr_hr = LinearRegression().fit(bb_hr[['hit_hr_norm', 'first_half', 'hit_hr_interact']], bb_hr['win_pct'])\n",
    "lr_hr.coef_"
   ]
  },
  {
   "cell_type": "markdown",
   "metadata": {},
   "source": [
    "Going from the first half of the years to the second half, if you have the same number of home runs, the expected winning percentage decreases by 3%. "
   ]
  },
  {
   "cell_type": "code",
   "execution_count": 14,
   "metadata": {},
   "outputs": [
    {
     "data": {
      "text/plain": [
       "array([ 0.07680414, -0.22615697])"
      ]
     },
     "execution_count": 14,
     "metadata": {},
     "output_type": "execute_result"
    }
   ],
   "source": [
    "lr_hr = LinearRegression().fit(bb_hr[['hit_hr', 'season']], bb_hr['win_pct'])\n",
    "lr_hr.coef_"
   ]
  },
  {
   "cell_type": "markdown",
   "metadata": {},
   "source": [
    "Given same number of home runs, in the next season expected winning percentage decreases by 0.22%. Given same season, each home run increases expected winning percentage by 0.07%."
   ]
  },
  {
   "cell_type": "code",
   "execution_count": 15,
   "metadata": {},
   "outputs": [
    {
     "ename": "KeyError",
     "evalue": "'k'",
     "output_type": "error",
     "traceback": [
      "\u001b[0;31m---------------------------------------------------------------------------\u001b[0m",
      "\u001b[0;31mKeyError\u001b[0m                                  Traceback (most recent call last)",
      "\u001b[0;32m~/opt/anaconda3/lib/python3.8/site-packages/pandas/core/indexes/base.py\u001b[0m in \u001b[0;36mget_loc\u001b[0;34m(self, key, method, tolerance)\u001b[0m\n\u001b[1;32m   2894\u001b[0m             \u001b[0;32mtry\u001b[0m\u001b[0;34m:\u001b[0m\u001b[0;34m\u001b[0m\u001b[0;34m\u001b[0m\u001b[0m\n\u001b[0;32m-> 2895\u001b[0;31m                 \u001b[0;32mreturn\u001b[0m \u001b[0mself\u001b[0m\u001b[0;34m.\u001b[0m\u001b[0m_engine\u001b[0m\u001b[0;34m.\u001b[0m\u001b[0mget_loc\u001b[0m\u001b[0;34m(\u001b[0m\u001b[0mcasted_key\u001b[0m\u001b[0;34m)\u001b[0m\u001b[0;34m\u001b[0m\u001b[0;34m\u001b[0m\u001b[0m\n\u001b[0m\u001b[1;32m   2896\u001b[0m             \u001b[0;32mexcept\u001b[0m \u001b[0mKeyError\u001b[0m \u001b[0;32mas\u001b[0m \u001b[0merr\u001b[0m\u001b[0;34m:\u001b[0m\u001b[0;34m\u001b[0m\u001b[0;34m\u001b[0m\u001b[0m\n",
      "\u001b[0;32mpandas/_libs/index.pyx\u001b[0m in \u001b[0;36mpandas._libs.index.IndexEngine.get_loc\u001b[0;34m()\u001b[0m\n",
      "\u001b[0;32mpandas/_libs/index.pyx\u001b[0m in \u001b[0;36mpandas._libs.index.IndexEngine.get_loc\u001b[0;34m()\u001b[0m\n",
      "\u001b[0;32mpandas/_libs/hashtable_class_helper.pxi\u001b[0m in \u001b[0;36mpandas._libs.hashtable.PyObjectHashTable.get_item\u001b[0;34m()\u001b[0m\n",
      "\u001b[0;32mpandas/_libs/hashtable_class_helper.pxi\u001b[0m in \u001b[0;36mpandas._libs.hashtable.PyObjectHashTable.get_item\u001b[0;34m()\u001b[0m\n",
      "\u001b[0;31mKeyError\u001b[0m: 'k'",
      "\nThe above exception was the direct cause of the following exception:\n",
      "\u001b[0;31mKeyError\u001b[0m                                  Traceback (most recent call last)",
      "\u001b[0;32m<ipython-input-15-7299f02d7d59>\u001b[0m in \u001b[0;36m<module>\u001b[0;34m\u001b[0m\n\u001b[1;32m      1\u001b[0m \u001b[0mbb_k\u001b[0m \u001b[0;34m=\u001b[0m \u001b[0mbb\u001b[0m\u001b[0;34m.\u001b[0m\u001b[0mcopy\u001b[0m\u001b[0;34m(\u001b[0m\u001b[0;34m)\u001b[0m\u001b[0;34m\u001b[0m\u001b[0;34m\u001b[0m\u001b[0m\n\u001b[0;32m----> 2\u001b[0;31m \u001b[0mbb_k\u001b[0m\u001b[0;34m[\u001b[0m\u001b[0;34m'k_interact'\u001b[0m\u001b[0;34m]\u001b[0m \u001b[0;34m=\u001b[0m \u001b[0mbb_hr\u001b[0m\u001b[0;34m[\u001b[0m\u001b[0;34m'first_half'\u001b[0m\u001b[0;34m]\u001b[0m \u001b[0;34m*\u001b[0m \u001b[0mbb_hr\u001b[0m\u001b[0;34m[\u001b[0m\u001b[0;34m'k'\u001b[0m\u001b[0;34m]\u001b[0m\u001b[0;34m\u001b[0m\u001b[0;34m\u001b[0m\u001b[0m\n\u001b[0m\u001b[1;32m      3\u001b[0m \u001b[0mbb_k\u001b[0m\u001b[0;34m[\u001b[0m\u001b[0;34m'win_pct'\u001b[0m\u001b[0;34m]\u001b[0m \u001b[0;34m=\u001b[0m \u001b[0mbb\u001b[0m\u001b[0;34m[\u001b[0m\u001b[0;34m'win_pct'\u001b[0m\u001b[0;34m]\u001b[0m \u001b[0;34m*\u001b[0m \u001b[0;36m100\u001b[0m\u001b[0;34m\u001b[0m\u001b[0;34m\u001b[0m\u001b[0m\n\u001b[1;32m      4\u001b[0m \u001b[0mbb_k\u001b[0m\u001b[0;34m[\u001b[0m\u001b[0;34m'hit_hr_norm'\u001b[0m\u001b[0;34m]\u001b[0m \u001b[0;34m=\u001b[0m \u001b[0;34m(\u001b[0m\u001b[0mbb\u001b[0m\u001b[0;34m[\u001b[0m\u001b[0;34m'hit_hr'\u001b[0m\u001b[0;34m]\u001b[0m \u001b[0;34m-\u001b[0m \u001b[0mbb\u001b[0m\u001b[0;34m[\u001b[0m\u001b[0;34m'hit_hr'\u001b[0m\u001b[0;34m]\u001b[0m\u001b[0;34m.\u001b[0m\u001b[0mmean\u001b[0m\u001b[0;34m(\u001b[0m\u001b[0;34m)\u001b[0m\u001b[0;34m)\u001b[0m \u001b[0;34m/\u001b[0m \u001b[0mbb\u001b[0m\u001b[0;34m[\u001b[0m\u001b[0;34m'hit_hr'\u001b[0m\u001b[0;34m]\u001b[0m\u001b[0;34m.\u001b[0m\u001b[0mstd\u001b[0m\u001b[0;34m(\u001b[0m\u001b[0;34m)\u001b[0m\u001b[0;34m\u001b[0m\u001b[0;34m\u001b[0m\u001b[0m\n",
      "\u001b[0;32m~/opt/anaconda3/lib/python3.8/site-packages/pandas/core/frame.py\u001b[0m in \u001b[0;36m__getitem__\u001b[0;34m(self, key)\u001b[0m\n\u001b[1;32m   2900\u001b[0m             \u001b[0;32mif\u001b[0m \u001b[0mself\u001b[0m\u001b[0;34m.\u001b[0m\u001b[0mcolumns\u001b[0m\u001b[0;34m.\u001b[0m\u001b[0mnlevels\u001b[0m \u001b[0;34m>\u001b[0m \u001b[0;36m1\u001b[0m\u001b[0;34m:\u001b[0m\u001b[0;34m\u001b[0m\u001b[0;34m\u001b[0m\u001b[0m\n\u001b[1;32m   2901\u001b[0m                 \u001b[0;32mreturn\u001b[0m \u001b[0mself\u001b[0m\u001b[0;34m.\u001b[0m\u001b[0m_getitem_multilevel\u001b[0m\u001b[0;34m(\u001b[0m\u001b[0mkey\u001b[0m\u001b[0;34m)\u001b[0m\u001b[0;34m\u001b[0m\u001b[0;34m\u001b[0m\u001b[0m\n\u001b[0;32m-> 2902\u001b[0;31m             \u001b[0mindexer\u001b[0m \u001b[0;34m=\u001b[0m \u001b[0mself\u001b[0m\u001b[0;34m.\u001b[0m\u001b[0mcolumns\u001b[0m\u001b[0;34m.\u001b[0m\u001b[0mget_loc\u001b[0m\u001b[0;34m(\u001b[0m\u001b[0mkey\u001b[0m\u001b[0;34m)\u001b[0m\u001b[0;34m\u001b[0m\u001b[0;34m\u001b[0m\u001b[0m\n\u001b[0m\u001b[1;32m   2903\u001b[0m             \u001b[0;32mif\u001b[0m \u001b[0mis_integer\u001b[0m\u001b[0;34m(\u001b[0m\u001b[0mindexer\u001b[0m\u001b[0;34m)\u001b[0m\u001b[0;34m:\u001b[0m\u001b[0;34m\u001b[0m\u001b[0;34m\u001b[0m\u001b[0m\n\u001b[1;32m   2904\u001b[0m                 \u001b[0mindexer\u001b[0m \u001b[0;34m=\u001b[0m \u001b[0;34m[\u001b[0m\u001b[0mindexer\u001b[0m\u001b[0;34m]\u001b[0m\u001b[0;34m\u001b[0m\u001b[0;34m\u001b[0m\u001b[0m\n",
      "\u001b[0;32m~/opt/anaconda3/lib/python3.8/site-packages/pandas/core/indexes/base.py\u001b[0m in \u001b[0;36mget_loc\u001b[0;34m(self, key, method, tolerance)\u001b[0m\n\u001b[1;32m   2895\u001b[0m                 \u001b[0;32mreturn\u001b[0m \u001b[0mself\u001b[0m\u001b[0;34m.\u001b[0m\u001b[0m_engine\u001b[0m\u001b[0;34m.\u001b[0m\u001b[0mget_loc\u001b[0m\u001b[0;34m(\u001b[0m\u001b[0mcasted_key\u001b[0m\u001b[0;34m)\u001b[0m\u001b[0;34m\u001b[0m\u001b[0;34m\u001b[0m\u001b[0m\n\u001b[1;32m   2896\u001b[0m             \u001b[0;32mexcept\u001b[0m \u001b[0mKeyError\u001b[0m \u001b[0;32mas\u001b[0m \u001b[0merr\u001b[0m\u001b[0;34m:\u001b[0m\u001b[0;34m\u001b[0m\u001b[0;34m\u001b[0m\u001b[0m\n\u001b[0;32m-> 2897\u001b[0;31m                 \u001b[0;32mraise\u001b[0m \u001b[0mKeyError\u001b[0m\u001b[0;34m(\u001b[0m\u001b[0mkey\u001b[0m\u001b[0;34m)\u001b[0m \u001b[0;32mfrom\u001b[0m \u001b[0merr\u001b[0m\u001b[0;34m\u001b[0m\u001b[0;34m\u001b[0m\u001b[0m\n\u001b[0m\u001b[1;32m   2898\u001b[0m \u001b[0;34m\u001b[0m\u001b[0m\n\u001b[1;32m   2899\u001b[0m         \u001b[0;32mif\u001b[0m \u001b[0mtolerance\u001b[0m \u001b[0;32mis\u001b[0m \u001b[0;32mnot\u001b[0m \u001b[0;32mNone\u001b[0m\u001b[0;34m:\u001b[0m\u001b[0;34m\u001b[0m\u001b[0;34m\u001b[0m\u001b[0m\n",
      "\u001b[0;31mKeyError\u001b[0m: 'k'"
     ]
    }
   ],
   "source": [
    "bb_k = bb.copy()\n",
    "bb_k['k_interact'] = bb_hr['first_half'] * bb_hr['k']\n",
    "bb_k['win_pct'] = bb['win_pct'] * 100\n",
    "bb_k['hit_hr_norm'] = (bb['hit_hr'] - bb['hit_hr'].mean()) / bb['hit_hr'].std()"
   ]
  },
  {
   "cell_type": "markdown",
   "metadata": {},
   "source": [
    "## Data Limitations\n",
    "\n",
    "- One limitation is an inability to control for park factors within this data. For example, the Colorado Rockies play in Denver which is at altitude and thus ball movement is affected. This means that hitters tend to display more power in Colorado and pitchers tend to struggle more. Data in other research supports this, but it will be interesting to see how that shows up in our analysis. Depending on what statistics we use, it is possible that these stats will balance out within the team data, but looking at isolated hitting and pitching stats we would see more extremes since the Rockies play half their games in their own ballpark. Less extreme park effects may also come into play since some parks are termed \\\"pitcher\\\" parks and others are referred to as \\\"hitter\\\" parks ([\\\"Ranking MLB's Most Hitter-Friendly Ballparks, by the Numbers\\\"](https://bleacherreport.com/articles/2022901-ranking-mlbs-most-hitter-friendly-ballparks-by-the-numbers)). We may want to analyze our data in such a way as to see how justified these terms are when applied to certain teams. A team like the Brewers who play at Miller Park (considered a good hitter park), might want to focus more on developing a strong offense whereas a team in a pitcher park might want to develop a strong rotation. Or perhaps since these effects impact both teams in a game it wouldn't matter. This might mean that some teams should take our conclusions with a grain of salt if their home ballpark is better suited for hitters/pitchers. Regardless, it seems that park factors may limit our ability to distinguish some trends across teams. However, we will use wRC+ in our analysis, which accounts for external factors like ballpark. This may help us reduce issues with this limitation. However, FIP which is our best statistic for pitchers doesn't control for park factors, so Rockies pitchers may have inflated FIPs as they allow more HR and they play half their games at Coors Field. It is important to be aware of this in our analysis as the Rockies may benefit more from strong offense than strong pitching because they have\n",
    "\n",
    "- We also do not have any data about strength of schedule. This means that we will not be able to account for offense being suppressed because a team may have had to play against a particularly strong pitching rotation more often than a weak pitching rotation. To give an example from this year, the San Diego Padres will have to play a lot more against the Los Angeles Dodgers, who have one of the best starting rotations in MLB right now, than they will the Baltimore Orioles, who do not have that great of a starting rotation at the moment. This also would apply to pitchers facing particularly formidable line ups. That being said, we are looking at a lot of teams and MLB does try to craft fair schedules for teams, so we hope that this balances out across our data. Nevertheless, that is an assumption we are making.\n",
    "\n",
    "- A third limitation is related the limitation above about strength of schedule, but this one stems from the nature of how MLB schedules are built in terms of the teams that one plays (strength of those teams aside). Teams play a plurality of their games within their own division and a majority of games (including that plurality) within their own league ([wikipedia.org/wiki/Major_League_Baseball_schedule](https://en.wikipedia.org/wiki/Major_League_Baseball_schedule)). MLB is divided into two leagues, the American League (AL) and the National League (NL). The leagues are essentially the same, but in the AL they have a designated hitter (DH) who bats for the pitcher whereas in the NL the pitcher still bats (for now - this will probably change in the coming seasons). This means that on average we would expect AL teams to probably net more offense, but we should still be able to get an idea of relative strength of offense and defense within a team. Also although this effect is noticeable, it should not be so big that we cannot say anything about the importance of offense vs. pitching vs. fielding for an MLB team. When an AL team plays an NL team, they obviously abide by the same rules (i.e., they both have a DH or neither does) depending on who the home team is. That means that there is never any disparity within a game. That being said, we still may see AL teams tend to have more offense and NL teams tend to have more dominant pitching. Also, within the trends of individual teams, this will not matter with the exception of the Houston Astros who switched to the AL in 2013 ([wikipedia.org/wiki/Houston_Astros](https://en.wikipedia.org/wiki/Houston_Astros)). Overall, this effect should not be overpowering and we should still be able to tell whether offense or defense is more valuable. Additionally, we will use wRC+ in our analysis, which accounts for external factors like league. This may help us reduce issues with this limitation.\n",
    "\n",
    "- Another limitation may be our data size. We do have hundreds of data points which seems reasonable to draw conclusions from and each data point is the aggregation of around 6000 plate appearances or approximately 25 players' performances from the season (that's the size of the active roster at any given moment in MLB). Nevertheless, we are limited by the fact that MLB only has 30 teams, so within a season we can only get 30 data points and we wanted to stick with a certain era - in this case the post-steroid - which is only so many years.\n",
    "\n",
    "- There are two limitations way beyond our control due to a couple of scandals in baseball. The first was in 2017 when the Houston Astros were caught up in a sign stealing scandal which involved banging on a trash can to signal when a breaking ball was coming. Research is  inconclusive about whether this actually benefitted the Astros, and many analysts think any difference it made was small. Therefore, we don't think that this is that important when aggregated over a season. There are a couple of games that do stand out where pitchers got shelled against the Astros and there were a lot of bangs on the trash can, but overall there is little evidence that the Astros benefitted tremendously and thus other teams weren't hurt a ton (although individual players may have been and it certainly leaves a bad feeling around the 2017 Astros). The second is a question about the balls used by MLB. The past few years have seen several studies into whether or not the baseballs used in games were \"juiced\" by the league. MLB has consistently denied these claims and in 2019 published a study that found that the balls were not juiced. Although there's no way to definitively know what happened with the balls, we are going to give the league the benefit of the doubt and although we are acknowledging these questions, our data does not account for this."
   ]
  },
  {
   "cell_type": "markdown",
   "metadata": {},
   "source": [
    "## Source Code"
   ]
  },
  {
   "cell_type": "markdown",
   "metadata": {},
   "source": [
    "## Acknowledgements"
   ]
  },
  {
   "cell_type": "code",
   "execution_count": null,
   "metadata": {},
   "outputs": [],
   "source": []
  }
 ],
 "metadata": {
  "kernelspec": {
   "display_name": "Python 3",
   "language": "python",
   "name": "python3"
  },
  "language_info": {
   "codemirror_mode": {
    "name": "ipython",
    "version": 3
   },
   "file_extension": ".py",
   "mimetype": "text/x-python",
   "name": "python",
   "nbconvert_exporter": "python",
   "pygments_lexer": "ipython3",
   "version": "3.7.4"
  }
 },
 "nbformat": 4,
 "nbformat_minor": 4
}
